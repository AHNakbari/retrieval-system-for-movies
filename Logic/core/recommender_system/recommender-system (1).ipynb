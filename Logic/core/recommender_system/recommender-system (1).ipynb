{
 "metadata": {
  "colab": {
   "collapsed_sections": [
    "ASbIipkUgPuh",
    "at9-Uddo0sB8"
   ],
   "gpuType": "T4",
   "provenance": []
  },
  "kernelspec": {
   "name": "python3",
   "display_name": "Python 3",
   "language": "python"
  },
  "language_info": {
   "name": "python",
   "version": "3.10.13",
   "mimetype": "text/x-python",
   "codemirror_mode": {
    "name": "ipython",
    "version": 3
   },
   "pygments_lexer": "ipython3",
   "nbconvert_exporter": "python",
   "file_extension": ".py"
  },
  "kaggle": {
   "accelerator": "nvidiaTeslaT4",
   "dataSources": [],
   "dockerImageVersionId": 30733,
   "isInternetEnabled": true,
   "language": "python",
   "sourceType": "notebook",
   "isGpuEnabled": true
  }
 },
 "nbformat_minor": 4,
 "nbformat": 4,
 "cells": [
  {
   "cell_type": "code",
   "source": [
    "# from google.colab import drive\n",
    "# drive.mount('/content/drive')"
   ],
   "metadata": {
    "colab": {
     "base_uri": "https://localhost:8080/"
    },
    "id": "5WP7WWcC71d0",
    "outputId": "5657cd83-924a-4cfd-f2b3-4087717dba0f",
    "pycharm": {
     "name": "#%%\n"
    },
    "execution": {
     "iopub.status.busy": "2024-06-26T10:14:50.163292Z",
     "iopub.execute_input": "2024-06-26T10:14:50.163633Z",
     "iopub.status.idle": "2024-06-26T10:14:50.167413Z",
     "shell.execute_reply.started": "2024-06-26T10:14:50.163598Z",
     "shell.execute_reply": "2024-06-26T10:14:50.166578Z"
    },
    "trusted": true
   },
   "execution_count": 4,
   "outputs": []
  },
  {
   "cell_type": "code",
   "source": [
    "import pandas as pd\n",
    "\n",
    "ratings_url = 'https://drive.google.com/uc?export=download&id=1Fy2L9YRBiCT0738yIhpoJVOSXmD4Gt0I'\n",
    "movies_url = 'https://drive.google.com/uc?export=download&id=1mItKOI2bO7DRhrZqiF2WBsarc34vZqeM'\n",
    "counties_url = 'https://drive.google.com/uc?export=download&id=1mn1xdrqU6jeXhSuM4G2ooCL3LYHsiCnX'\n",
    "\n",
    "# Load data\n",
    "ratings = pd.read_csv(ratings_url, sep='\\t', encoding='latin-1', usecols=['user_id', 'movie_id', 'user_emb_id', 'movie_emb_id', 'rating'])\n",
    "movies = pd.read_csv(movies_url, sep='\\t', encoding='latin-1', usecols=['movie_id', 'title', 'genres'])\n",
    "countries_df = pd.read_csv(counties_url, sep=',', encoding='latin-1')"
   ],
   "metadata": {
    "id": "d7T_DzAQCiLr",
    "pycharm": {
     "name": "#%%\n"
    },
    "execution": {
     "iopub.status.busy": "2024-06-26T12:22:39.832004Z",
     "iopub.execute_input": "2024-06-26T12:22:39.832384Z",
     "iopub.status.idle": "2024-06-26T12:22:44.418553Z",
     "shell.execute_reply.started": "2024-06-26T12:22:39.832354Z",
     "shell.execute_reply": "2024-06-26T12:22:44.417498Z"
    },
    "trusted": true
   },
   "execution_count": 140,
   "outputs": []
  },
  {
   "cell_type": "code",
   "source": [
    "movies.head(5)"
   ],
   "metadata": {
    "colab": {
     "base_uri": "https://localhost:8080/",
     "height": 206
    },
    "id": "XfuH9tB45bjb",
    "outputId": "9c664330-5775-4301-9025-626b40f89938",
    "pycharm": {
     "name": "#%%\n"
    },
    "execution": {
     "iopub.status.busy": "2024-06-26T10:14:56.980275Z",
     "iopub.execute_input": "2024-06-26T10:14:56.980631Z",
     "iopub.status.idle": "2024-06-26T10:14:57.016290Z",
     "shell.execute_reply.started": "2024-06-26T10:14:56.980604Z",
     "shell.execute_reply": "2024-06-26T10:14:57.015448Z"
    },
    "trusted": true
   },
   "execution_count": 5,
   "outputs": [
    {
     "execution_count": 5,
     "output_type": "execute_result",
     "data": {
      "text/plain": "   movie_id                               title                        genres\n0         1                    Toy Story (1995)   Animation|Children's|Comedy\n1         2                      Jumanji (1995)  Adventure|Children's|Fantasy\n2         3             Grumpier Old Men (1995)                Comedy|Romance\n3         4            Waiting to Exhale (1995)                  Comedy|Drama\n4         5  Father of the Bride Part II (1995)                        Comedy",
      "text/html": "<div>\n<style scoped>\n    .dataframe tbody tr th:only-of-type {\n        vertical-align: middle;\n    }\n\n    .dataframe tbody tr th {\n        vertical-align: top;\n    }\n\n    .dataframe thead th {\n        text-align: right;\n    }\n</style>\n<table border=\"1\" class=\"dataframe\">\n  <thead>\n    <tr style=\"text-align: right;\">\n      <th></th>\n      <th>movie_id</th>\n      <th>title</th>\n      <th>genres</th>\n    </tr>\n  </thead>\n  <tbody>\n    <tr>\n      <th>0</th>\n      <td>1</td>\n      <td>Toy Story (1995)</td>\n      <td>Animation|Children's|Comedy</td>\n    </tr>\n    <tr>\n      <th>1</th>\n      <td>2</td>\n      <td>Jumanji (1995)</td>\n      <td>Adventure|Children's|Fantasy</td>\n    </tr>\n    <tr>\n      <th>2</th>\n      <td>3</td>\n      <td>Grumpier Old Men (1995)</td>\n      <td>Comedy|Romance</td>\n    </tr>\n    <tr>\n      <th>3</th>\n      <td>4</td>\n      <td>Waiting to Exhale (1995)</td>\n      <td>Comedy|Drama</td>\n    </tr>\n    <tr>\n      <th>4</th>\n      <td>5</td>\n      <td>Father of the Bride Part II (1995)</td>\n      <td>Comedy</td>\n    </tr>\n  </tbody>\n</table>\n</div>"
     },
     "metadata": {}
    }
   ]
  },
  {
   "cell_type": "code",
   "source": [
    "ratings.head(5)"
   ],
   "metadata": {
    "colab": {
     "base_uri": "https://localhost:8080/",
     "height": 206
    },
    "id": "AG7B-H2H4eKP",
    "outputId": "a9354bcd-bed5-44e0-f558-b2415e0e6011",
    "pycharm": {
     "name": "#%%\n"
    },
    "execution": {
     "iopub.status.busy": "2024-06-26T10:15:01.038148Z",
     "iopub.execute_input": "2024-06-26T10:15:01.038814Z",
     "iopub.status.idle": "2024-06-26T10:15:01.048727Z",
     "shell.execute_reply.started": "2024-06-26T10:15:01.038784Z",
     "shell.execute_reply": "2024-06-26T10:15:01.047879Z"
    },
    "trusted": true
   },
   "execution_count": 6,
   "outputs": [
    {
     "execution_count": 6,
     "output_type": "execute_result",
     "data": {
      "text/plain": "   user_id  movie_id  rating  user_emb_id  movie_emb_id\n0        1      1193       5            0          1192\n1        1       661       3            0           660\n2        1       914       3            0           913\n3        1      3408       4            0          3407\n4        1      2355       5            0          2354",
      "text/html": "<div>\n<style scoped>\n    .dataframe tbody tr th:only-of-type {\n        vertical-align: middle;\n    }\n\n    .dataframe tbody tr th {\n        vertical-align: top;\n    }\n\n    .dataframe thead th {\n        text-align: right;\n    }\n</style>\n<table border=\"1\" class=\"dataframe\">\n  <thead>\n    <tr style=\"text-align: right;\">\n      <th></th>\n      <th>user_id</th>\n      <th>movie_id</th>\n      <th>rating</th>\n      <th>user_emb_id</th>\n      <th>movie_emb_id</th>\n    </tr>\n  </thead>\n  <tbody>\n    <tr>\n      <th>0</th>\n      <td>1</td>\n      <td>1193</td>\n      <td>5</td>\n      <td>0</td>\n      <td>1192</td>\n    </tr>\n    <tr>\n      <th>1</th>\n      <td>1</td>\n      <td>661</td>\n      <td>3</td>\n      <td>0</td>\n      <td>660</td>\n    </tr>\n    <tr>\n      <th>2</th>\n      <td>1</td>\n      <td>914</td>\n      <td>3</td>\n      <td>0</td>\n      <td>913</td>\n    </tr>\n    <tr>\n      <th>3</th>\n      <td>1</td>\n      <td>3408</td>\n      <td>4</td>\n      <td>0</td>\n      <td>3407</td>\n    </tr>\n    <tr>\n      <th>4</th>\n      <td>1</td>\n      <td>2355</td>\n      <td>5</td>\n      <td>0</td>\n      <td>2354</td>\n    </tr>\n  </tbody>\n</table>\n</div>"
     },
     "metadata": {}
    }
   ]
  },
  {
   "cell_type": "code",
   "source": [
    "countries_df.head()"
   ],
   "metadata": {
    "execution": {
     "iopub.status.busy": "2024-06-26T12:22:47.349032Z",
     "iopub.execute_input": "2024-06-26T12:22:47.349424Z",
     "iopub.status.idle": "2024-06-26T12:22:47.363039Z",
     "shell.execute_reply.started": "2024-06-26T12:22:47.349391Z",
     "shell.execute_reply": "2024-06-26T12:22:47.362037Z"
    },
    "trusted": true,
    "pycharm": {
     "name": "#%%\n"
    }
   },
   "execution_count": 141,
   "outputs": [
    {
     "execution_count": 141,
     "output_type": "execute_result",
     "data": {
      "text/plain": "     URL  United States  China  India  Japan  Brazil  Russia  Indonesia  \\\n0  url_1            657    194    310    790     768     436        189   \n1  url_2            389    149    354    729     629     937        345   \n2  url_3            979    475    509    769     270     705        113   \n3  url_4            524    699    692    694     473     160        484   \n4  url_5            767    661    319    572     399     401        277   \n\n   Germany  United Kingdom  France  \n0      973             448     335  \n1      967             764     104  \n2      931             977     213  \n3       37             956     899  \n4      596             631     203  ",
      "text/html": "<div>\n<style scoped>\n    .dataframe tbody tr th:only-of-type {\n        vertical-align: middle;\n    }\n\n    .dataframe tbody tr th {\n        vertical-align: top;\n    }\n\n    .dataframe thead th {\n        text-align: right;\n    }\n</style>\n<table border=\"1\" class=\"dataframe\">\n  <thead>\n    <tr style=\"text-align: right;\">\n      <th></th>\n      <th>URL</th>\n      <th>United States</th>\n      <th>China</th>\n      <th>India</th>\n      <th>Japan</th>\n      <th>Brazil</th>\n      <th>Russia</th>\n      <th>Indonesia</th>\n      <th>Germany</th>\n      <th>United Kingdom</th>\n      <th>France</th>\n    </tr>\n  </thead>\n  <tbody>\n    <tr>\n      <th>0</th>\n      <td>url_1</td>\n      <td>657</td>\n      <td>194</td>\n      <td>310</td>\n      <td>790</td>\n      <td>768</td>\n      <td>436</td>\n      <td>189</td>\n      <td>973</td>\n      <td>448</td>\n      <td>335</td>\n    </tr>\n    <tr>\n      <th>1</th>\n      <td>url_2</td>\n      <td>389</td>\n      <td>149</td>\n      <td>354</td>\n      <td>729</td>\n      <td>629</td>\n      <td>937</td>\n      <td>345</td>\n      <td>967</td>\n      <td>764</td>\n      <td>104</td>\n    </tr>\n    <tr>\n      <th>2</th>\n      <td>url_3</td>\n      <td>979</td>\n      <td>475</td>\n      <td>509</td>\n      <td>769</td>\n      <td>270</td>\n      <td>705</td>\n      <td>113</td>\n      <td>931</td>\n      <td>977</td>\n      <td>213</td>\n    </tr>\n    <tr>\n      <th>3</th>\n      <td>url_4</td>\n      <td>524</td>\n      <td>699</td>\n      <td>692</td>\n      <td>694</td>\n      <td>473</td>\n      <td>160</td>\n      <td>484</td>\n      <td>37</td>\n      <td>956</td>\n      <td>899</td>\n    </tr>\n    <tr>\n      <th>4</th>\n      <td>url_5</td>\n      <td>767</td>\n      <td>661</td>\n      <td>319</td>\n      <td>572</td>\n      <td>399</td>\n      <td>401</td>\n      <td>277</td>\n      <td>596</td>\n      <td>631</td>\n      <td>203</td>\n    </tr>\n  </tbody>\n</table>\n</div>"
     },
     "metadata": {}
    }
   ]
  },
  {
   "cell_type": "markdown",
   "source": [
    "### Content Based\n",
    "\n",
    "**Objective**: Build a Content-Based Recommendation system that computes similarity between movies based on movie genres. It will suggest movies that are most similar to a particular movie based on its genre.\n",
    "\n",
    "**Dataset**:\n",
    "- **Movies Data**: DataFrame with columns `movie_id`, `title`, and `genres`.\n",
    "\n",
    "**Steps**:\n",
    "\n",
    "1. **Preprocess Data**:\n",
    "   - Split the `genres` column into separate genre strings.\n",
    "   - Fill any missing values in the `genres` column and convert it to string.\n",
    "\n",
    "2. **Compute TF-IDF Matrix**:\n",
    "   - Use `TfidfVectorizer` to transform the genres into a TF-IDF matrix.\n",
    "\n",
    "3. **Calculate Cosine Similarity**:\n",
    "   - Compute cosine similarity between the TF-IDF matrices of movies.\n",
    "\n",
    "4. **Recommend Movies**:\n",
    "   - Create a function that gets movie recommendations based on the cosine similarity score of movie genres."
   ],
   "metadata": {
    "id": "VszS9wr3tr-1",
    "pycharm": {
     "name": "#%% md\n"
    }
   }
  },
  {
   "cell_type": "code",
   "source": [
    "movies['genres'] = movies['genres'].str.split('|')\n",
    "movies['genres'] = movies['genres'].fillna(\"\").astype('str')"
   ],
   "metadata": {
    "id": "H7yBCgOcLHdA",
    "pycharm": {
     "name": "#%%\n"
    },
    "execution": {
     "iopub.status.busy": "2024-06-26T10:16:05.399213Z",
     "iopub.execute_input": "2024-06-26T10:16:05.400031Z",
     "iopub.status.idle": "2024-06-26T10:16:05.416401Z",
     "shell.execute_reply.started": "2024-06-26T10:16:05.399990Z",
     "shell.execute_reply": "2024-06-26T10:16:05.415532Z"
    },
    "trusted": true
   },
   "execution_count": 7,
   "outputs": []
  },
  {
   "cell_type": "code",
   "source": [
    "from sklearn.feature_extraction.text import TfidfVectorizer\n",
    "\n",
    "tf = TfidfVectorizer(analyzer='word',ngram_range=(1, 2),min_df=0, stop_words='english')\n",
    "tfidf_matrix = tf.fit_transform(movies['genres'])"
   ],
   "metadata": {
    "id": "mMRR5ZWCLIKW",
    "pycharm": {
     "name": "#%%\n"
    },
    "execution": {
     "iopub.status.busy": "2024-06-26T10:16:12.361002Z",
     "iopub.execute_input": "2024-06-26T10:16:12.361577Z",
     "iopub.status.idle": "2024-06-26T10:16:13.024510Z",
     "shell.execute_reply.started": "2024-06-26T10:16:12.361547Z",
     "shell.execute_reply": "2024-06-26T10:16:13.023585Z"
    },
    "trusted": true
   },
   "execution_count": 8,
   "outputs": []
  },
  {
   "cell_type": "code",
   "source": [
    "from sklearn.metrics.pairwise import linear_kernel\n",
    "\n",
    "cosine_sim = linear_kernel(tfidf_matrix, tfidf_matrix)"
   ],
   "metadata": {
    "id": "z5ZkCc3ZLKMW",
    "pycharm": {
     "name": "#%%\n"
    },
    "execution": {
     "iopub.status.busy": "2024-06-26T10:16:17.543566Z",
     "iopub.execute_input": "2024-06-26T10:16:17.543913Z",
     "iopub.status.idle": "2024-06-26T10:16:17.919049Z",
     "shell.execute_reply.started": "2024-06-26T10:16:17.543887Z",
     "shell.execute_reply": "2024-06-26T10:16:17.918037Z"
    },
    "trusted": true
   },
   "execution_count": 9,
   "outputs": []
  },
  {
   "cell_type": "code",
   "source": [
    "def genre_recommendations(title, n=10):\n",
    "    idx = movies.index[movies['title'] == title].tolist()[0]\n",
    "    sim_scores = list(enumerate(cosine_sim[idx]))\n",
    "    sim_scores = sorted(sim_scores, key=lambda x: x[1], reverse=True)\n",
    "    sim_scores = sim_scores[1:n+1]\n",
    "    movie_indices = [i[0] for i in sim_scores]\n",
    "    return movies['title'].iloc[movie_indices].tolist()"
   ],
   "metadata": {
    "id": "SuZyCCz-vXz5",
    "pycharm": {
     "name": "#%%\n"
    },
    "execution": {
     "iopub.status.busy": "2024-06-26T10:17:52.409170Z",
     "iopub.execute_input": "2024-06-26T10:17:52.409989Z",
     "iopub.status.idle": "2024-06-26T10:17:52.416212Z",
     "shell.execute_reply.started": "2024-06-26T10:17:52.409955Z",
     "shell.execute_reply": "2024-06-26T10:17:52.415394Z"
    },
    "trusted": true
   },
   "execution_count": 10,
   "outputs": []
  },
  {
   "cell_type": "code",
   "source": [
    "# Example\n",
    "genre_recommendations('GoldenEye (1995)')"
   ],
   "metadata": {
    "colab": {
     "base_uri": "https://localhost:8080/"
    },
    "id": "V2Nztyl3vYkd",
    "outputId": "86cba97f-2803-4493-8b4b-fbfa3d62be3c",
    "pycharm": {
     "name": "#%%\n"
    },
    "execution": {
     "iopub.status.busy": "2024-06-26T10:17:55.184451Z",
     "iopub.execute_input": "2024-06-26T10:17:55.184827Z",
     "iopub.status.idle": "2024-06-26T10:17:55.200942Z",
     "shell.execute_reply.started": "2024-06-26T10:17:55.184797Z",
     "shell.execute_reply": "2024-06-26T10:17:55.200082Z"
    },
    "trusted": true
   },
   "execution_count": 11,
   "outputs": [
    {
     "execution_count": 11,
     "output_type": "execute_result",
     "data": {
      "text/plain": "['Clear and Present Danger (1994)',\n 'Surviving the Game (1994)',\n 'Rock, The (1996)',\n 'Daylight (1996)',\n 'Chain Reaction (1996)',\n 'Maximum Risk (1996)',\n 'Anaconda (1997)',\n 'Con Air (1997)',\n 'Firestorm (1998)',\n 'Perfect Storm, The (2000)']"
     },
     "metadata": {}
    }
   ]
  },
  {
   "cell_type": "markdown",
   "source": [
    "\n",
    "### Collaborative Filtering\n",
    "\n",
    "**Objective**: Implement a collaborative filtering movie recommendation system to recommend movies to a user based on similar users' spreferences.\n",
    "\n",
    "**Dataset**:\n",
    "\n",
    "- **Ratings Data**: DataFrame with columns `user_id`, `movie_id`, and `rating`.\n",
    "- **Movies Data**: DataFrame with columns `movie_id`, `title`, and `genres`.\n",
    "\n",
    "**Steps**:\n",
    "\n",
    "1. **Preprocess Data**:\n",
    "   - Merge `ratings` and `movies` DataFrames on `movie_id`.\n",
    "   - Split `genres` column into separate rows.\n",
    "\n",
    "2. **Create User-Genre Matrix**:\n",
    "   - Create a matrix where rows are users and columns are genres.\n",
    "   - Each cell represents the ratio of movies watched by the user in that genre to the total movies watched by the user.\n",
    "\n",
    "3. **Calculate User Similarity**:\n",
    "   - Use cosine similarity to calculate the similarity between users.\n",
    "\n",
    "4. **Find Top N Similar Users**:\n",
    "   - Find the top N users with the most similar preferences to the given user.\n",
    "\n",
    "5. **Recommend Movies**:\n",
    "   - Recommend movies that similar users have watched but the target user has not.\n",
    "   - Return titles and genres of the top 10 recommended movies."
   ],
   "metadata": {
    "id": "fzAN3JRjQLir",
    "pycharm": {
     "name": "#%% md\n"
    }
   }
  },
  {
   "cell_type": "code",
   "source": [
    "import pandas as pd\n",
    "import numpy as np\n",
    "from sklearn.metrics.pairwise import cosine_similarity"
   ],
   "metadata": {
    "id": "F7OCOj_cLaZD",
    "pycharm": {
     "name": "#%%\n"
    },
    "execution": {
     "iopub.status.busy": "2024-06-26T10:20:05.869455Z",
     "iopub.execute_input": "2024-06-26T10:20:05.870188Z",
     "iopub.status.idle": "2024-06-26T10:20:05.874701Z",
     "shell.execute_reply.started": "2024-06-26T10:20:05.870158Z",
     "shell.execute_reply": "2024-06-26T10:20:05.873600Z"
    },
    "trusted": true
   },
   "execution_count": 12,
   "outputs": []
  },
  {
   "cell_type": "code",
   "source": [
    "data = pd.merge(ratings, movies, on='movie_id')"
   ],
   "metadata": {
    "id": "i4yACSHKLa3B",
    "pycharm": {
     "name": "#%%\n"
    },
    "execution": {
     "iopub.status.busy": "2024-06-26T10:20:09.580421Z",
     "iopub.execute_input": "2024-06-26T10:20:09.581133Z",
     "iopub.status.idle": "2024-06-26T10:20:09.790028Z",
     "shell.execute_reply.started": "2024-06-26T10:20:09.581099Z",
     "shell.execute_reply": "2024-06-26T10:20:09.789174Z"
    },
    "trusted": true
   },
   "execution_count": 13,
   "outputs": []
  },
  {
   "cell_type": "code",
   "source": [
    "data.head(5)"
   ],
   "metadata": {
    "id": "4UYm-ewOMbsV",
    "pycharm": {
     "name": "#%%\n"
    },
    "execution": {
     "iopub.status.busy": "2024-06-26T10:20:10.422745Z",
     "iopub.execute_input": "2024-06-26T10:20:10.423083Z",
     "iopub.status.idle": "2024-06-26T10:20:10.435286Z",
     "shell.execute_reply.started": "2024-06-26T10:20:10.423058Z",
     "shell.execute_reply": "2024-06-26T10:20:10.434259Z"
    },
    "trusted": true
   },
   "execution_count": 14,
   "outputs": [
    {
     "execution_count": 14,
     "output_type": "execute_result",
     "data": {
      "text/plain": "   user_id  movie_id  rating  user_emb_id  movie_emb_id  \\\n0        1      1193       5            0          1192   \n1        1       661       3            0           660   \n2        1       914       3            0           913   \n3        1      3408       4            0          3407   \n4        1      2355       5            0          2354   \n\n                                    title  \\\n0  One Flew Over the Cuckoo's Nest (1975)   \n1        James and the Giant Peach (1996)   \n2                     My Fair Lady (1964)   \n3                  Erin Brockovich (2000)   \n4                    Bug's Life, A (1998)   \n\n                                   genres  \n0                               ['Drama']  \n1  ['Animation', \"Children's\", 'Musical']  \n2                  ['Musical', 'Romance']  \n3                               ['Drama']  \n4   ['Animation', \"Children's\", 'Comedy']  ",
      "text/html": "<div>\n<style scoped>\n    .dataframe tbody tr th:only-of-type {\n        vertical-align: middle;\n    }\n\n    .dataframe tbody tr th {\n        vertical-align: top;\n    }\n\n    .dataframe thead th {\n        text-align: right;\n    }\n</style>\n<table border=\"1\" class=\"dataframe\">\n  <thead>\n    <tr style=\"text-align: right;\">\n      <th></th>\n      <th>user_id</th>\n      <th>movie_id</th>\n      <th>rating</th>\n      <th>user_emb_id</th>\n      <th>movie_emb_id</th>\n      <th>title</th>\n      <th>genres</th>\n    </tr>\n  </thead>\n  <tbody>\n    <tr>\n      <th>0</th>\n      <td>1</td>\n      <td>1193</td>\n      <td>5</td>\n      <td>0</td>\n      <td>1192</td>\n      <td>One Flew Over the Cuckoo's Nest (1975)</td>\n      <td>['Drama']</td>\n    </tr>\n    <tr>\n      <th>1</th>\n      <td>1</td>\n      <td>661</td>\n      <td>3</td>\n      <td>0</td>\n      <td>660</td>\n      <td>James and the Giant Peach (1996)</td>\n      <td>['Animation', \"Children's\", 'Musical']</td>\n    </tr>\n    <tr>\n      <th>2</th>\n      <td>1</td>\n      <td>914</td>\n      <td>3</td>\n      <td>0</td>\n      <td>913</td>\n      <td>My Fair Lady (1964)</td>\n      <td>['Musical', 'Romance']</td>\n    </tr>\n    <tr>\n      <th>3</th>\n      <td>1</td>\n      <td>3408</td>\n      <td>4</td>\n      <td>0</td>\n      <td>3407</td>\n      <td>Erin Brockovich (2000)</td>\n      <td>['Drama']</td>\n    </tr>\n    <tr>\n      <th>4</th>\n      <td>1</td>\n      <td>2355</td>\n      <td>5</td>\n      <td>0</td>\n      <td>2354</td>\n      <td>Bug's Life, A (1998)</td>\n      <td>['Animation', \"Children's\", 'Comedy']</td>\n    </tr>\n  </tbody>\n</table>\n</div>"
     },
     "metadata": {}
    }
   ]
  },
  {
   "cell_type": "code",
   "source": [
    "data = data.assign(genres=data['genres'].str.split('|')).explode('genres')"
   ],
   "metadata": {
    "id": "pm-nVWN9MdcJ",
    "pycharm": {
     "name": "#%%\n"
    },
    "execution": {
     "iopub.status.busy": "2024-06-26T10:20:12.298334Z",
     "iopub.execute_input": "2024-06-26T10:20:12.299017Z",
     "iopub.status.idle": "2024-06-26T10:20:13.944926Z",
     "shell.execute_reply.started": "2024-06-26T10:20:12.298984Z",
     "shell.execute_reply": "2024-06-26T10:20:13.943964Z"
    },
    "trusted": true
   },
   "execution_count": 15,
   "outputs": []
  },
  {
   "cell_type": "code",
   "source": [
    "data.head(5)"
   ],
   "metadata": {
    "id": "PmJJkBHqMfmx",
    "pycharm": {
     "name": "#%%\n"
    },
    "execution": {
     "iopub.status.busy": "2024-06-26T10:20:44.061223Z",
     "iopub.execute_input": "2024-06-26T10:20:44.061612Z",
     "iopub.status.idle": "2024-06-26T10:20:44.074501Z",
     "shell.execute_reply.started": "2024-06-26T10:20:44.061580Z",
     "shell.execute_reply": "2024-06-26T10:20:44.073525Z"
    },
    "trusted": true
   },
   "execution_count": 16,
   "outputs": [
    {
     "execution_count": 16,
     "output_type": "execute_result",
     "data": {
      "text/plain": "   user_id  movie_id  rating  user_emb_id  movie_emb_id  \\\n0        1      1193       5            0          1192   \n1        1       661       3            0           660   \n2        1       914       3            0           913   \n3        1      3408       4            0          3407   \n4        1      2355       5            0          2354   \n\n                                    title  \\\n0  One Flew Over the Cuckoo's Nest (1975)   \n1        James and the Giant Peach (1996)   \n2                     My Fair Lady (1964)   \n3                  Erin Brockovich (2000)   \n4                    Bug's Life, A (1998)   \n\n                                   genres  \n0                               ['Drama']  \n1  ['Animation', \"Children's\", 'Musical']  \n2                  ['Musical', 'Romance']  \n3                               ['Drama']  \n4   ['Animation', \"Children's\", 'Comedy']  ",
      "text/html": "<div>\n<style scoped>\n    .dataframe tbody tr th:only-of-type {\n        vertical-align: middle;\n    }\n\n    .dataframe tbody tr th {\n        vertical-align: top;\n    }\n\n    .dataframe thead th {\n        text-align: right;\n    }\n</style>\n<table border=\"1\" class=\"dataframe\">\n  <thead>\n    <tr style=\"text-align: right;\">\n      <th></th>\n      <th>user_id</th>\n      <th>movie_id</th>\n      <th>rating</th>\n      <th>user_emb_id</th>\n      <th>movie_emb_id</th>\n      <th>title</th>\n      <th>genres</th>\n    </tr>\n  </thead>\n  <tbody>\n    <tr>\n      <th>0</th>\n      <td>1</td>\n      <td>1193</td>\n      <td>5</td>\n      <td>0</td>\n      <td>1192</td>\n      <td>One Flew Over the Cuckoo's Nest (1975)</td>\n      <td>['Drama']</td>\n    </tr>\n    <tr>\n      <th>1</th>\n      <td>1</td>\n      <td>661</td>\n      <td>3</td>\n      <td>0</td>\n      <td>660</td>\n      <td>James and the Giant Peach (1996)</td>\n      <td>['Animation', \"Children's\", 'Musical']</td>\n    </tr>\n    <tr>\n      <th>2</th>\n      <td>1</td>\n      <td>914</td>\n      <td>3</td>\n      <td>0</td>\n      <td>913</td>\n      <td>My Fair Lady (1964)</td>\n      <td>['Musical', 'Romance']</td>\n    </tr>\n    <tr>\n      <th>3</th>\n      <td>1</td>\n      <td>3408</td>\n      <td>4</td>\n      <td>0</td>\n      <td>3407</td>\n      <td>Erin Brockovich (2000)</td>\n      <td>['Drama']</td>\n    </tr>\n    <tr>\n      <th>4</th>\n      <td>1</td>\n      <td>2355</td>\n      <td>5</td>\n      <td>0</td>\n      <td>2354</td>\n      <td>Bug's Life, A (1998)</td>\n      <td>['Animation', \"Children's\", 'Comedy']</td>\n    </tr>\n  </tbody>\n</table>\n</div>"
     },
     "metadata": {}
    }
   ]
  },
  {
   "cell_type": "code",
   "source": [
    "def create_user_genre_matrix(data):\n",
    "    user_genre_matrix = data.pivot_table(index='user_id', columns='genres', aggfunc='size', fill_value=0)\n",
    "    user_genre_matrix = user_genre_matrix.div(user_genre_matrix.sum(axis=1), axis=0)\n",
    "    return user_genre_matrix"
   ],
   "metadata": {
    "execution": {
     "iopub.status.busy": "2024-06-26T10:25:44.214432Z",
     "iopub.execute_input": "2024-06-26T10:25:44.214818Z",
     "iopub.status.idle": "2024-06-26T10:25:44.220009Z",
     "shell.execute_reply.started": "2024-06-26T10:25:44.214786Z",
     "shell.execute_reply": "2024-06-26T10:25:44.219080Z"
    },
    "trusted": true,
    "pycharm": {
     "name": "#%%\n"
    }
   },
   "execution_count": 17,
   "outputs": []
  },
  {
   "cell_type": "code",
   "source": [
    "user_genre_matrix = create_user_genre_matrix(data)\n",
    "user_similarity = cosine_similarity(user_genre_matrix)\n",
    "user_similarity_df = pd.DataFrame(user_similarity, index=user_genre_matrix.index, columns=user_genre_matrix.index)\n",
    "user_similarity_df.head(5)"
   ],
   "metadata": {
    "execution": {
     "iopub.status.busy": "2024-06-26T10:34:47.440474Z",
     "iopub.execute_input": "2024-06-26T10:34:47.440964Z",
     "iopub.status.idle": "2024-06-26T10:34:47.933058Z",
     "shell.execute_reply.started": "2024-06-26T10:34:47.440924Z",
     "shell.execute_reply": "2024-06-26T10:34:47.931887Z"
    },
    "trusted": true,
    "pycharm": {
     "name": "#%%\n"
    }
   },
   "execution_count": 32,
   "outputs": [
    {
     "execution_count": 32,
     "output_type": "execute_result",
     "data": {
      "text/plain": "user_id      1         2         3         4         5         6         7     \\\nuser_id                                                                         \n1        1.000000  0.700616  0.263790  0.198349  0.746013  0.335790  0.034934   \n2        0.700616  1.000000  0.234946  0.368718  0.885277  0.335986  0.370861   \n3        0.263790  0.234946  1.000000  0.140733  0.447572  0.315127  0.063454   \n4        0.198349  0.368718  0.140733  1.000000  0.239809  0.093633  0.521854   \n5        0.746013  0.885277  0.447572  0.239809  1.000000  0.393560  0.151057   \n\nuser_id      8         9         10    ...      6031      6032      6033  \\\nuser_id                                ...                                 \n1        0.740531  0.768105  0.606995  ...  0.599871  0.673598  0.192453   \n2        0.916273  0.890188  0.580996  ...  0.659786  0.613919  0.491021   \n3        0.135451  0.350350  0.747341  ...  0.618521  0.591616  0.191998   \n4        0.267352  0.245873  0.190546  ...  0.312400  0.173916  0.592403   \n5        0.885451  0.937112  0.788511  ...  0.774966  0.792514  0.291992   \n\nuser_id      6034      6035      6036      6037      6038      6039      6040  \nuser_id                                                                        \n1        0.076218  0.596091  0.776295  0.709905  0.369019  0.428513  0.778642  \n2        0.059787  0.688939  0.865308  0.818279  0.466579  0.318475  0.869229  \n3        0.284297  0.637298  0.463486  0.376910  0.463023  0.551533  0.421064  \n4        0.000000  0.231132  0.262354  0.237899  0.116052  0.073389  0.239081  \n5        0.167262  0.850973  0.965926  0.890352  0.618813  0.478289  0.963891  \n\n[5 rows x 6040 columns]",
      "text/html": "<div>\n<style scoped>\n    .dataframe tbody tr th:only-of-type {\n        vertical-align: middle;\n    }\n\n    .dataframe tbody tr th {\n        vertical-align: top;\n    }\n\n    .dataframe thead th {\n        text-align: right;\n    }\n</style>\n<table border=\"1\" class=\"dataframe\">\n  <thead>\n    <tr style=\"text-align: right;\">\n      <th>user_id</th>\n      <th>1</th>\n      <th>2</th>\n      <th>3</th>\n      <th>4</th>\n      <th>5</th>\n      <th>6</th>\n      <th>7</th>\n      <th>8</th>\n      <th>9</th>\n      <th>10</th>\n      <th>...</th>\n      <th>6031</th>\n      <th>6032</th>\n      <th>6033</th>\n      <th>6034</th>\n      <th>6035</th>\n      <th>6036</th>\n      <th>6037</th>\n      <th>6038</th>\n      <th>6039</th>\n      <th>6040</th>\n    </tr>\n    <tr>\n      <th>user_id</th>\n      <th></th>\n      <th></th>\n      <th></th>\n      <th></th>\n      <th></th>\n      <th></th>\n      <th></th>\n      <th></th>\n      <th></th>\n      <th></th>\n      <th></th>\n      <th></th>\n      <th></th>\n      <th></th>\n      <th></th>\n      <th></th>\n      <th></th>\n      <th></th>\n      <th></th>\n      <th></th>\n      <th></th>\n    </tr>\n  </thead>\n  <tbody>\n    <tr>\n      <th>1</th>\n      <td>1.000000</td>\n      <td>0.700616</td>\n      <td>0.263790</td>\n      <td>0.198349</td>\n      <td>0.746013</td>\n      <td>0.335790</td>\n      <td>0.034934</td>\n      <td>0.740531</td>\n      <td>0.768105</td>\n      <td>0.606995</td>\n      <td>...</td>\n      <td>0.599871</td>\n      <td>0.673598</td>\n      <td>0.192453</td>\n      <td>0.076218</td>\n      <td>0.596091</td>\n      <td>0.776295</td>\n      <td>0.709905</td>\n      <td>0.369019</td>\n      <td>0.428513</td>\n      <td>0.778642</td>\n    </tr>\n    <tr>\n      <th>2</th>\n      <td>0.700616</td>\n      <td>1.000000</td>\n      <td>0.234946</td>\n      <td>0.368718</td>\n      <td>0.885277</td>\n      <td>0.335986</td>\n      <td>0.370861</td>\n      <td>0.916273</td>\n      <td>0.890188</td>\n      <td>0.580996</td>\n      <td>...</td>\n      <td>0.659786</td>\n      <td>0.613919</td>\n      <td>0.491021</td>\n      <td>0.059787</td>\n      <td>0.688939</td>\n      <td>0.865308</td>\n      <td>0.818279</td>\n      <td>0.466579</td>\n      <td>0.318475</td>\n      <td>0.869229</td>\n    </tr>\n    <tr>\n      <th>3</th>\n      <td>0.263790</td>\n      <td>0.234946</td>\n      <td>1.000000</td>\n      <td>0.140733</td>\n      <td>0.447572</td>\n      <td>0.315127</td>\n      <td>0.063454</td>\n      <td>0.135451</td>\n      <td>0.350350</td>\n      <td>0.747341</td>\n      <td>...</td>\n      <td>0.618521</td>\n      <td>0.591616</td>\n      <td>0.191998</td>\n      <td>0.284297</td>\n      <td>0.637298</td>\n      <td>0.463486</td>\n      <td>0.376910</td>\n      <td>0.463023</td>\n      <td>0.551533</td>\n      <td>0.421064</td>\n    </tr>\n    <tr>\n      <th>4</th>\n      <td>0.198349</td>\n      <td>0.368718</td>\n      <td>0.140733</td>\n      <td>1.000000</td>\n      <td>0.239809</td>\n      <td>0.093633</td>\n      <td>0.521854</td>\n      <td>0.267352</td>\n      <td>0.245873</td>\n      <td>0.190546</td>\n      <td>...</td>\n      <td>0.312400</td>\n      <td>0.173916</td>\n      <td>0.592403</td>\n      <td>0.000000</td>\n      <td>0.231132</td>\n      <td>0.262354</td>\n      <td>0.237899</td>\n      <td>0.116052</td>\n      <td>0.073389</td>\n      <td>0.239081</td>\n    </tr>\n    <tr>\n      <th>5</th>\n      <td>0.746013</td>\n      <td>0.885277</td>\n      <td>0.447572</td>\n      <td>0.239809</td>\n      <td>1.000000</td>\n      <td>0.393560</td>\n      <td>0.151057</td>\n      <td>0.885451</td>\n      <td>0.937112</td>\n      <td>0.788511</td>\n      <td>...</td>\n      <td>0.774966</td>\n      <td>0.792514</td>\n      <td>0.291992</td>\n      <td>0.167262</td>\n      <td>0.850973</td>\n      <td>0.965926</td>\n      <td>0.890352</td>\n      <td>0.618813</td>\n      <td>0.478289</td>\n      <td>0.963891</td>\n    </tr>\n  </tbody>\n</table>\n<p>5 rows × 6040 columns</p>\n</div>"
     },
     "metadata": {}
    }
   ]
  },
  {
   "cell_type": "code",
   "source": [
    "def get_top_n_similar_users(user_id, n=5):\n",
    "    if user_id not in user_similarity_df.index:\n",
    "        return []\n",
    "    sim_scores = user_similarity_df[user_id].sort_values(ascending=False)\n",
    "    top_n_users = sim_scores.iloc[1:n+1] # not user_id\n",
    "    return top_n_users.index.tolist()"
   ],
   "metadata": {
    "id": "kKDRWOLQdYYo",
    "pycharm": {
     "name": "#%%\n"
    },
    "execution": {
     "iopub.status.busy": "2024-06-26T10:35:37.633459Z",
     "iopub.execute_input": "2024-06-26T10:35:37.633826Z",
     "iopub.status.idle": "2024-06-26T10:35:37.639363Z",
     "shell.execute_reply.started": "2024-06-26T10:35:37.633795Z",
     "shell.execute_reply": "2024-06-26T10:35:37.638293Z"
    },
    "trusted": true
   },
   "execution_count": 36,
   "outputs": []
  },
  {
   "cell_type": "code",
   "source": [
    "def recommend_movies(user_id, n_similar_users=5, n_recommendations=10):\n",
    "    similar_users = get_top_n_similar_users(user_id, n_similar_users)\n",
    "    similar_users_movies = data[data['user_id'].isin(similar_users)]\n",
    "    watched_movies = data[data['user_id'] == user_id]['movie_id'].unique()\n",
    "    recommended_movies = similar_users_movies[~similar_users_movies['movie_id'].isin(watched_movies)]\n",
    "    top_recommended_movies = recommended_movies['movie_id'].value_counts().head(n_recommendations).index\n",
    "    top_recommended_movies_details = movies[movies['movie_id'].isin(top_recommended_movies)]\n",
    "    return top_recommended_movies_details[['title', 'genres']]"
   ],
   "metadata": {
    "id": "AFfL391uddRd",
    "pycharm": {
     "name": "#%%\n"
    },
    "execution": {
     "iopub.status.busy": "2024-06-26T10:35:38.411204Z",
     "iopub.execute_input": "2024-06-26T10:35:38.411823Z",
     "iopub.status.idle": "2024-06-26T10:35:38.417866Z",
     "shell.execute_reply.started": "2024-06-26T10:35:38.411791Z",
     "shell.execute_reply": "2024-06-26T10:35:38.416969Z"
    },
    "trusted": true
   },
   "execution_count": 37,
   "outputs": []
  },
  {
   "cell_type": "code",
   "source": [
    "# Example\n",
    "user_id = 1\n",
    "recommended_movies = recommend_movies(user_id, n_similar_users=6, n_recommendations=10)"
   ],
   "metadata": {
    "id": "jrw5w4ZGdgmz",
    "pycharm": {
     "name": "#%%\n"
    },
    "execution": {
     "iopub.status.busy": "2024-06-26T10:37:37.193723Z",
     "iopub.execute_input": "2024-06-26T10:37:37.194335Z",
     "iopub.status.idle": "2024-06-26T10:37:37.212179Z",
     "shell.execute_reply.started": "2024-06-26T10:37:37.194301Z",
     "shell.execute_reply": "2024-06-26T10:37:37.211443Z"
    },
    "trusted": true
   },
   "execution_count": 52,
   "outputs": []
  },
  {
   "cell_type": "code",
   "source": [
    "recommended_movies"
   ],
   "metadata": {
    "colab": {
     "base_uri": "https://localhost:8080/",
     "height": 359
    },
    "id": "7pwe2K5Ndm9a",
    "outputId": "92c21630-cdf2-4faa-87e8-f5c21c7f10f4",
    "pycharm": {
     "name": "#%%\n"
    },
    "execution": {
     "iopub.status.busy": "2024-06-26T10:37:37.385381Z",
     "iopub.execute_input": "2024-06-26T10:37:37.385666Z",
     "iopub.status.idle": "2024-06-26T10:37:37.394390Z",
     "shell.execute_reply.started": "2024-06-26T10:37:37.385643Z",
     "shell.execute_reply": "2024-06-26T10:37:37.393437Z"
    },
    "trusted": true
   },
   "execution_count": 53,
   "outputs": [
    {
     "execution_count": 53,
     "output_type": "execute_result",
     "data": {
      "text/plain": "                                         title  \\\n33                                 Babe (1995)   \n589           Silence of the Lambs, The (1991)   \n1019                Alice in Wonderland (1951)   \n1499  Shall We Dance? (Shall We Dansu?) (1996)   \n1656                  Good Will Hunting (1997)   \n2018                          Peter Pan (1953)   \n2027                    Sleeping Beauty (1959)   \n2530                           Election (1999)   \n2789                    American Beauty (1999)   \n3091                           Magnolia (1999)   \n\n                                                 genres  \n33                    [\"Children's\", 'Comedy', 'Drama']  \n589                               ['Drama', 'Thriller']  \n1019             ['Animation', \"Children's\", 'Musical']  \n1499                                         ['Comedy']  \n1656                                          ['Drama']  \n2018  ['Animation', \"Children's\", 'Fantasy', 'Musical']  \n2027             ['Animation', \"Children's\", 'Musical']  \n2530                                         ['Comedy']  \n2789                                ['Comedy', 'Drama']  \n3091                                          ['Drama']  ",
      "text/html": "<div>\n<style scoped>\n    .dataframe tbody tr th:only-of-type {\n        vertical-align: middle;\n    }\n\n    .dataframe tbody tr th {\n        vertical-align: top;\n    }\n\n    .dataframe thead th {\n        text-align: right;\n    }\n</style>\n<table border=\"1\" class=\"dataframe\">\n  <thead>\n    <tr style=\"text-align: right;\">\n      <th></th>\n      <th>title</th>\n      <th>genres</th>\n    </tr>\n  </thead>\n  <tbody>\n    <tr>\n      <th>33</th>\n      <td>Babe (1995)</td>\n      <td>[\"Children's\", 'Comedy', 'Drama']</td>\n    </tr>\n    <tr>\n      <th>589</th>\n      <td>Silence of the Lambs, The (1991)</td>\n      <td>['Drama', 'Thriller']</td>\n    </tr>\n    <tr>\n      <th>1019</th>\n      <td>Alice in Wonderland (1951)</td>\n      <td>['Animation', \"Children's\", 'Musical']</td>\n    </tr>\n    <tr>\n      <th>1499</th>\n      <td>Shall We Dance? (Shall We Dansu?) (1996)</td>\n      <td>['Comedy']</td>\n    </tr>\n    <tr>\n      <th>1656</th>\n      <td>Good Will Hunting (1997)</td>\n      <td>['Drama']</td>\n    </tr>\n    <tr>\n      <th>2018</th>\n      <td>Peter Pan (1953)</td>\n      <td>['Animation', \"Children's\", 'Fantasy', 'Musical']</td>\n    </tr>\n    <tr>\n      <th>2027</th>\n      <td>Sleeping Beauty (1959)</td>\n      <td>['Animation', \"Children's\", 'Musical']</td>\n    </tr>\n    <tr>\n      <th>2530</th>\n      <td>Election (1999)</td>\n      <td>['Comedy']</td>\n    </tr>\n    <tr>\n      <th>2789</th>\n      <td>American Beauty (1999)</td>\n      <td>['Comedy', 'Drama']</td>\n    </tr>\n    <tr>\n      <th>3091</th>\n      <td>Magnolia (1999)</td>\n      <td>['Drama']</td>\n    </tr>\n  </tbody>\n</table>\n</div>"
     },
     "metadata": {}
    }
   ]
  },
  {
   "cell_type": "markdown",
   "source": [
    "### SVD (Singular Value Decomposition)\n",
    "\n"
   ],
   "metadata": {
    "id": "F8rQ5EfYyxHe",
    "pycharm": {
     "name": "#%% md\n"
    }
   }
  },
  {
   "cell_type": "markdown",
   "source": [
    "**Objective**: Implement an SVD-based recommendation system to recommend movies to users by decomposing the user-item interaction matrix into latent factors.\n",
    "\n",
    "**Dataset**:\n",
    "- **Ratings Data**: DataFrame with columns `user_id`, `movie_id`, and `rating`.\n",
    "- **Movies Data**: DataFrame with columns `movie_id`, `title`, and `genres`.\n",
    "\n",
    "**Steps**:\n",
    "\n",
    "1. **Preprocess Data**:\n",
    "   - Merge `ratings` and `movies` DataFrames on `movie_id`.\n",
    "   - Create a user-item matrix where rows represent users, columns represent movies, and the values are the ratings.\n",
    "\n",
    "2. **Decompose Matrix using SVD**:\n",
    "   - Apply Singular Value Decomposition (SVD) to decompose the user-item matrix into three matrices: $U$, $\\Sigma$, and $V^T$.\n",
    "\n",
    "3. **Reconstruct Matrix**:\n",
    "   - Reconstruct the user-item matrix using the top $k$ singular values to reduce dimensionality.\n",
    "\n",
    "4. **Predict Ratings**:\n",
    "   - Use the reconstructed matrix to predict ratings for all user-item pairs.\n",
    "\n",
    "5. **Recommend Movies**:\n",
    "   - Recommend the top 20 movies with the highest predicted ratings for a given user that the user hasn't rated yet."
   ],
   "metadata": {
    "id": "rg58Uuv43VHl",
    "pycharm": {
     "name": "#%% md\n"
    }
   }
  },
  {
   "cell_type": "code",
   "source": [
    "n_users = ratings.user_id.unique().shape[0]\n",
    "n_movies = ratings.movie_id.unique().shape[0]\n",
    "print('Number of users = ' + str(n_users) + ' | Number of movies = ' + str(n_movies))"
   ],
   "metadata": {
    "id": "cR6nM0Xh9-RU",
    "pycharm": {
     "name": "#%%\n"
    },
    "execution": {
     "iopub.status.busy": "2024-06-26T10:38:13.762547Z",
     "iopub.execute_input": "2024-06-26T10:38:13.763347Z",
     "iopub.status.idle": "2024-06-26T10:38:13.779850Z",
     "shell.execute_reply.started": "2024-06-26T10:38:13.763317Z",
     "shell.execute_reply": "2024-06-26T10:38:13.779011Z"
    },
    "trusted": true
   },
   "execution_count": 54,
   "outputs": [
    {
     "name": "stdout",
     "text": "Number of users = 6040 | Number of movies = 3706\n",
     "output_type": "stream"
    }
   ]
  },
  {
   "cell_type": "markdown",
   "source": [
    "Fill na elements."
   ],
   "metadata": {
    "id": "AejbQ3PmSaPk",
    "pycharm": {
     "name": "#%% md\n"
    }
   }
  },
  {
   "cell_type": "code",
   "source": [
    "Ratings = ratings.pivot(index = 'user_id', columns ='movie_id', values = 'rating').fillna(0)\n",
    "Ratings.head()"
   ],
   "metadata": {
    "id": "0gXWDE2b-SjD",
    "pycharm": {
     "name": "#%%\n"
    },
    "execution": {
     "iopub.status.busy": "2024-06-26T10:38:15.115628Z",
     "iopub.execute_input": "2024-06-26T10:38:15.115961Z",
     "iopub.status.idle": "2024-06-26T10:38:15.512770Z",
     "shell.execute_reply.started": "2024-06-26T10:38:15.115936Z",
     "shell.execute_reply": "2024-06-26T10:38:15.511818Z"
    },
    "trusted": true
   },
   "execution_count": 55,
   "outputs": [
    {
     "execution_count": 55,
     "output_type": "execute_result",
     "data": {
      "text/plain": "movie_id  1     2     3     4     5     6     7     8     9     10    ...  \\\nuser_id                                                               ...   \n1          5.0   0.0   0.0   0.0   0.0   0.0   0.0   0.0   0.0   0.0  ...   \n2          0.0   0.0   0.0   0.0   0.0   0.0   0.0   0.0   0.0   0.0  ...   \n3          0.0   0.0   0.0   0.0   0.0   0.0   0.0   0.0   0.0   0.0  ...   \n4          0.0   0.0   0.0   0.0   0.0   0.0   0.0   0.0   0.0   0.0  ...   \n5          0.0   0.0   0.0   0.0   0.0   2.0   0.0   0.0   0.0   0.0  ...   \n\nmovie_id  3943  3944  3945  3946  3947  3948  3949  3950  3951  3952  \nuser_id                                                               \n1          0.0   0.0   0.0   0.0   0.0   0.0   0.0   0.0   0.0   0.0  \n2          0.0   0.0   0.0   0.0   0.0   0.0   0.0   0.0   0.0   0.0  \n3          0.0   0.0   0.0   0.0   0.0   0.0   0.0   0.0   0.0   0.0  \n4          0.0   0.0   0.0   0.0   0.0   0.0   0.0   0.0   0.0   0.0  \n5          0.0   0.0   0.0   0.0   0.0   0.0   0.0   0.0   0.0   0.0  \n\n[5 rows x 3706 columns]",
      "text/html": "<div>\n<style scoped>\n    .dataframe tbody tr th:only-of-type {\n        vertical-align: middle;\n    }\n\n    .dataframe tbody tr th {\n        vertical-align: top;\n    }\n\n    .dataframe thead th {\n        text-align: right;\n    }\n</style>\n<table border=\"1\" class=\"dataframe\">\n  <thead>\n    <tr style=\"text-align: right;\">\n      <th>movie_id</th>\n      <th>1</th>\n      <th>2</th>\n      <th>3</th>\n      <th>4</th>\n      <th>5</th>\n      <th>6</th>\n      <th>7</th>\n      <th>8</th>\n      <th>9</th>\n      <th>10</th>\n      <th>...</th>\n      <th>3943</th>\n      <th>3944</th>\n      <th>3945</th>\n      <th>3946</th>\n      <th>3947</th>\n      <th>3948</th>\n      <th>3949</th>\n      <th>3950</th>\n      <th>3951</th>\n      <th>3952</th>\n    </tr>\n    <tr>\n      <th>user_id</th>\n      <th></th>\n      <th></th>\n      <th></th>\n      <th></th>\n      <th></th>\n      <th></th>\n      <th></th>\n      <th></th>\n      <th></th>\n      <th></th>\n      <th></th>\n      <th></th>\n      <th></th>\n      <th></th>\n      <th></th>\n      <th></th>\n      <th></th>\n      <th></th>\n      <th></th>\n      <th></th>\n      <th></th>\n    </tr>\n  </thead>\n  <tbody>\n    <tr>\n      <th>1</th>\n      <td>5.0</td>\n      <td>0.0</td>\n      <td>0.0</td>\n      <td>0.0</td>\n      <td>0.0</td>\n      <td>0.0</td>\n      <td>0.0</td>\n      <td>0.0</td>\n      <td>0.0</td>\n      <td>0.0</td>\n      <td>...</td>\n      <td>0.0</td>\n      <td>0.0</td>\n      <td>0.0</td>\n      <td>0.0</td>\n      <td>0.0</td>\n      <td>0.0</td>\n      <td>0.0</td>\n      <td>0.0</td>\n      <td>0.0</td>\n      <td>0.0</td>\n    </tr>\n    <tr>\n      <th>2</th>\n      <td>0.0</td>\n      <td>0.0</td>\n      <td>0.0</td>\n      <td>0.0</td>\n      <td>0.0</td>\n      <td>0.0</td>\n      <td>0.0</td>\n      <td>0.0</td>\n      <td>0.0</td>\n      <td>0.0</td>\n      <td>...</td>\n      <td>0.0</td>\n      <td>0.0</td>\n      <td>0.0</td>\n      <td>0.0</td>\n      <td>0.0</td>\n      <td>0.0</td>\n      <td>0.0</td>\n      <td>0.0</td>\n      <td>0.0</td>\n      <td>0.0</td>\n    </tr>\n    <tr>\n      <th>3</th>\n      <td>0.0</td>\n      <td>0.0</td>\n      <td>0.0</td>\n      <td>0.0</td>\n      <td>0.0</td>\n      <td>0.0</td>\n      <td>0.0</td>\n      <td>0.0</td>\n      <td>0.0</td>\n      <td>0.0</td>\n      <td>...</td>\n      <td>0.0</td>\n      <td>0.0</td>\n      <td>0.0</td>\n      <td>0.0</td>\n      <td>0.0</td>\n      <td>0.0</td>\n      <td>0.0</td>\n      <td>0.0</td>\n      <td>0.0</td>\n      <td>0.0</td>\n    </tr>\n    <tr>\n      <th>4</th>\n      <td>0.0</td>\n      <td>0.0</td>\n      <td>0.0</td>\n      <td>0.0</td>\n      <td>0.0</td>\n      <td>0.0</td>\n      <td>0.0</td>\n      <td>0.0</td>\n      <td>0.0</td>\n      <td>0.0</td>\n      <td>...</td>\n      <td>0.0</td>\n      <td>0.0</td>\n      <td>0.0</td>\n      <td>0.0</td>\n      <td>0.0</td>\n      <td>0.0</td>\n      <td>0.0</td>\n      <td>0.0</td>\n      <td>0.0</td>\n      <td>0.0</td>\n    </tr>\n    <tr>\n      <th>5</th>\n      <td>0.0</td>\n      <td>0.0</td>\n      <td>0.0</td>\n      <td>0.0</td>\n      <td>0.0</td>\n      <td>2.0</td>\n      <td>0.0</td>\n      <td>0.0</td>\n      <td>0.0</td>\n      <td>0.0</td>\n      <td>...</td>\n      <td>0.0</td>\n      <td>0.0</td>\n      <td>0.0</td>\n      <td>0.0</td>\n      <td>0.0</td>\n      <td>0.0</td>\n      <td>0.0</td>\n      <td>0.0</td>\n      <td>0.0</td>\n      <td>0.0</td>\n    </tr>\n  </tbody>\n</table>\n<p>5 rows × 3706 columns</p>\n</div>"
     },
     "metadata": {}
    }
   ]
  },
  {
   "cell_type": "code",
   "source": [
    "# calculate rating matrix"
   ],
   "metadata": {
    "id": "Ue3HMeeX-XVz",
    "pycharm": {
     "name": "#%%\n"
    }
   },
   "execution_count": null,
   "outputs": []
  },
  {
   "cell_type": "code",
   "source": [
    "from scipy.sparse.linalg import svds\n",
    "U, sigma, Vt = svds(Ratings.to_numpy(), k=100)\n",
    "sigma = np.diag(sigma)"
   ],
   "metadata": {
    "id": "Cto_bTMN08Uu",
    "pycharm": {
     "name": "#%%\n"
    },
    "execution": {
     "iopub.status.busy": "2024-06-26T10:42:02.266598Z",
     "iopub.execute_input": "2024-06-26T10:42:02.266997Z",
     "iopub.status.idle": "2024-06-26T10:42:13.305313Z",
     "shell.execute_reply.started": "2024-06-26T10:42:02.266968Z",
     "shell.execute_reply": "2024-06-26T10:42:13.304091Z"
    },
    "trusted": true
   },
   "execution_count": 58,
   "outputs": []
  },
  {
   "cell_type": "code",
   "source": [
    "all_user_predicted_ratings = np.dot(np.dot(U, sigma), Vt)"
   ],
   "metadata": {
    "id": "lEdVW5cG-8CM",
    "pycharm": {
     "name": "#%%\n"
    },
    "execution": {
     "iopub.status.busy": "2024-06-26T10:42:28.824765Z",
     "iopub.execute_input": "2024-06-26T10:42:28.825734Z",
     "iopub.status.idle": "2024-06-26T10:42:28.946153Z",
     "shell.execute_reply.started": "2024-06-26T10:42:28.825701Z",
     "shell.execute_reply": "2024-06-26T10:42:28.944857Z"
    },
    "trusted": true
   },
   "execution_count": 59,
   "outputs": []
  },
  {
   "cell_type": "code",
   "source": [
    "preds = pd.DataFrame(all_user_predicted_ratings, columns=Ratings.columns)\n",
    "preds.head()"
   ],
   "metadata": {
    "colab": {
     "base_uri": "https://localhost:8080/",
     "height": 255
    },
    "id": "QEiw1_bA_AUT",
    "outputId": "7bbc6752-1c64-44eb-8056-933b5e313ca9",
    "pycharm": {
     "name": "#%%\n"
    },
    "execution": {
     "iopub.status.busy": "2024-06-26T10:42:31.734812Z",
     "iopub.execute_input": "2024-06-26T10:42:31.735207Z",
     "iopub.status.idle": "2024-06-26T10:42:31.759763Z",
     "shell.execute_reply.started": "2024-06-26T10:42:31.735178Z",
     "shell.execute_reply": "2024-06-26T10:42:31.759071Z"
    },
    "trusted": true
   },
   "execution_count": 60,
   "outputs": [
    {
     "execution_count": 60,
     "output_type": "execute_result",
     "data": {
      "text/plain": "movie_id      1         2         3         4         5         6     \\\n0         5.132589  0.168593  0.354256 -0.025984  0.146412 -0.124057   \n1         0.527079  0.278227  0.076380 -0.021186  0.036919  1.129623   \n2         2.158835  0.384824  0.298305 -0.117883 -0.003051  0.096564   \n3         0.170102  0.139338  0.049499  0.040963 -0.008043  0.282204   \n4         0.374352 -0.418232 -0.022549  0.160691 -0.242144  1.526043   \n\nmovie_id      7         8         9         10    ...      3943      3944  \\\n0        -0.061609  0.079215  0.025162 -0.364816  ... -0.102774  0.008839   \n1        -0.053878  0.119751  0.095301  1.710964  ...  0.004399 -0.010270   \n2        -0.008272  0.074512 -0.009878  1.075564  ...  0.053171  0.007187   \n3        -0.054760 -0.003053  0.011237 -0.416429  ... -0.048642 -0.003518   \n4        -0.135583 -0.071767 -0.139569  0.070673  ...  0.026708  0.018442   \n\nmovie_id      3945      3946      3947      3948      3949      3950  \\\n0         0.028378 -0.096139 -0.042566  0.007125 -0.112891  0.017840   \n1        -0.021023  0.078350 -0.008892 -0.431597 -0.238003 -0.008461   \n2         0.042976  0.069483  0.040690  0.014647  0.173379  0.076715   \n3         0.013642 -0.002003 -0.031724 -0.185492  0.015460 -0.036204   \n4        -0.039586 -0.114310 -0.129007 -0.562672  0.229044 -0.085522   \n\nmovie_id      3951      3952  \n0         0.081946 -0.192445  \n1         0.035765  0.036354  \n2         0.047036 -0.239905  \n3        -0.009392 -0.129042  \n4         0.075491  0.013107  \n\n[5 rows x 3706 columns]",
      "text/html": "<div>\n<style scoped>\n    .dataframe tbody tr th:only-of-type {\n        vertical-align: middle;\n    }\n\n    .dataframe tbody tr th {\n        vertical-align: top;\n    }\n\n    .dataframe thead th {\n        text-align: right;\n    }\n</style>\n<table border=\"1\" class=\"dataframe\">\n  <thead>\n    <tr style=\"text-align: right;\">\n      <th>movie_id</th>\n      <th>1</th>\n      <th>2</th>\n      <th>3</th>\n      <th>4</th>\n      <th>5</th>\n      <th>6</th>\n      <th>7</th>\n      <th>8</th>\n      <th>9</th>\n      <th>10</th>\n      <th>...</th>\n      <th>3943</th>\n      <th>3944</th>\n      <th>3945</th>\n      <th>3946</th>\n      <th>3947</th>\n      <th>3948</th>\n      <th>3949</th>\n      <th>3950</th>\n      <th>3951</th>\n      <th>3952</th>\n    </tr>\n  </thead>\n  <tbody>\n    <tr>\n      <th>0</th>\n      <td>5.132589</td>\n      <td>0.168593</td>\n      <td>0.354256</td>\n      <td>-0.025984</td>\n      <td>0.146412</td>\n      <td>-0.124057</td>\n      <td>-0.061609</td>\n      <td>0.079215</td>\n      <td>0.025162</td>\n      <td>-0.364816</td>\n      <td>...</td>\n      <td>-0.102774</td>\n      <td>0.008839</td>\n      <td>0.028378</td>\n      <td>-0.096139</td>\n      <td>-0.042566</td>\n      <td>0.007125</td>\n      <td>-0.112891</td>\n      <td>0.017840</td>\n      <td>0.081946</td>\n      <td>-0.192445</td>\n    </tr>\n    <tr>\n      <th>1</th>\n      <td>0.527079</td>\n      <td>0.278227</td>\n      <td>0.076380</td>\n      <td>-0.021186</td>\n      <td>0.036919</td>\n      <td>1.129623</td>\n      <td>-0.053878</td>\n      <td>0.119751</td>\n      <td>0.095301</td>\n      <td>1.710964</td>\n      <td>...</td>\n      <td>0.004399</td>\n      <td>-0.010270</td>\n      <td>-0.021023</td>\n      <td>0.078350</td>\n      <td>-0.008892</td>\n      <td>-0.431597</td>\n      <td>-0.238003</td>\n      <td>-0.008461</td>\n      <td>0.035765</td>\n      <td>0.036354</td>\n    </tr>\n    <tr>\n      <th>2</th>\n      <td>2.158835</td>\n      <td>0.384824</td>\n      <td>0.298305</td>\n      <td>-0.117883</td>\n      <td>-0.003051</td>\n      <td>0.096564</td>\n      <td>-0.008272</td>\n      <td>0.074512</td>\n      <td>-0.009878</td>\n      <td>1.075564</td>\n      <td>...</td>\n      <td>0.053171</td>\n      <td>0.007187</td>\n      <td>0.042976</td>\n      <td>0.069483</td>\n      <td>0.040690</td>\n      <td>0.014647</td>\n      <td>0.173379</td>\n      <td>0.076715</td>\n      <td>0.047036</td>\n      <td>-0.239905</td>\n    </tr>\n    <tr>\n      <th>3</th>\n      <td>0.170102</td>\n      <td>0.139338</td>\n      <td>0.049499</td>\n      <td>0.040963</td>\n      <td>-0.008043</td>\n      <td>0.282204</td>\n      <td>-0.054760</td>\n      <td>-0.003053</td>\n      <td>0.011237</td>\n      <td>-0.416429</td>\n      <td>...</td>\n      <td>-0.048642</td>\n      <td>-0.003518</td>\n      <td>0.013642</td>\n      <td>-0.002003</td>\n      <td>-0.031724</td>\n      <td>-0.185492</td>\n      <td>0.015460</td>\n      <td>-0.036204</td>\n      <td>-0.009392</td>\n      <td>-0.129042</td>\n    </tr>\n    <tr>\n      <th>4</th>\n      <td>0.374352</td>\n      <td>-0.418232</td>\n      <td>-0.022549</td>\n      <td>0.160691</td>\n      <td>-0.242144</td>\n      <td>1.526043</td>\n      <td>-0.135583</td>\n      <td>-0.071767</td>\n      <td>-0.139569</td>\n      <td>0.070673</td>\n      <td>...</td>\n      <td>0.026708</td>\n      <td>0.018442</td>\n      <td>-0.039586</td>\n      <td>-0.114310</td>\n      <td>-0.129007</td>\n      <td>-0.562672</td>\n      <td>0.229044</td>\n      <td>-0.085522</td>\n      <td>0.075491</td>\n      <td>0.013107</td>\n    </tr>\n  </tbody>\n</table>\n<p>5 rows × 3706 columns</p>\n</div>"
     },
     "metadata": {}
    }
   ]
  },
  {
   "cell_type": "code",
   "source": [
    "def recommend_movies(predictions, userID, movies, original_ratings, num_recommendations):\n",
    "    user_row_number = userID - 1\n",
    "\n",
    "    sorted_user_predictions = pd.DataFrame(predictions.iloc[user_row_number].sort_values(ascending=False))\n",
    "    sorted_user_predictions.columns = ['Predictions']\n",
    "\n",
    "    user_data = original_ratings[original_ratings['user_id'] == userID]\n",
    "\n",
    "    user_full = user_data.merge(movies, how='left', on='movie_id').sort_values(['rating'], ascending=False)\n",
    "\n",
    "    print(f'User {userID} has already rated {user_full.shape[0]} movies.')\n",
    "    print(f'Recommending highest {num_recommendations} predicted ratings movies not already rated.')\n",
    "\n",
    "    recommendations = (movies[~movies['movie_id'].isin(user_full['movie_id'])]\n",
    "                       .merge(sorted_user_predictions, how='left', left_on='movie_id', right_index=True)\n",
    "                       .sort_values('Predictions', ascending=False)\n",
    "                       .iloc[:num_recommendations])\n",
    "\n",
    "    return user_full, recommendations"
   ],
   "metadata": {
    "id": "tGNw2vZe_Hnb",
    "pycharm": {
     "name": "#%%\n"
    },
    "execution": {
     "iopub.status.busy": "2024-06-26T10:54:45.869604Z",
     "iopub.execute_input": "2024-06-26T10:54:45.870201Z",
     "iopub.status.idle": "2024-06-26T10:54:45.877545Z",
     "shell.execute_reply.started": "2024-06-26T10:54:45.870168Z",
     "shell.execute_reply": "2024-06-26T10:54:45.876631Z"
    },
    "trusted": true
   },
   "execution_count": 89,
   "outputs": []
  },
  {
   "cell_type": "code",
   "source": [
    "already_rated, predictions = recommend_movies(preds, 4375, movies, ratings, 20)"
   ],
   "metadata": {
    "colab": {
     "base_uri": "https://localhost:8080/"
    },
    "id": "hzz8KwhR_PPD",
    "outputId": "31262e36-c7c6-43ad-8ff5-0e3b2bbacccc",
    "pycharm": {
     "name": "#%%\n"
    },
    "execution": {
     "iopub.status.busy": "2024-06-26T10:54:46.227212Z",
     "iopub.execute_input": "2024-06-26T10:54:46.227490Z",
     "iopub.status.idle": "2024-06-26T10:54:46.241815Z",
     "shell.execute_reply.started": "2024-06-26T10:54:46.227466Z",
     "shell.execute_reply": "2024-06-26T10:54:46.240900Z"
    },
    "trusted": true
   },
   "execution_count": 90,
   "outputs": [
    {
     "name": "stdout",
     "text": "User 4375 has already rated 325 movies.\nRecommending highest 20 predicted ratings movies not already rated.\n",
     "output_type": "stream"
    }
   ]
  },
  {
   "cell_type": "code",
   "source": [
    "ratings.head(20)"
   ],
   "metadata": {
    "colab": {
     "base_uri": "https://localhost:8080/",
     "height": 676
    },
    "id": "hwgZ2-RCAOgb",
    "outputId": "758489af-38d3-42f8-ae42-dc3003f9e5b6",
    "pycharm": {
     "name": "#%%\n"
    },
    "execution": {
     "iopub.status.busy": "2024-06-26T10:54:48.954713Z",
     "iopub.execute_input": "2024-06-26T10:54:48.955075Z",
     "iopub.status.idle": "2024-06-26T10:54:48.966756Z",
     "shell.execute_reply.started": "2024-06-26T10:54:48.955046Z",
     "shell.execute_reply": "2024-06-26T10:54:48.965794Z"
    },
    "trusted": true
   },
   "execution_count": 91,
   "outputs": [
    {
     "execution_count": 91,
     "output_type": "execute_result",
     "data": {
      "text/plain": "    user_id  movie_id  rating  user_emb_id  movie_emb_id\n0         1      1193       5            0          1192\n1         1       661       3            0           660\n2         1       914       3            0           913\n3         1      3408       4            0          3407\n4         1      2355       5            0          2354\n5         1      1197       3            0          1196\n6         1      1287       5            0          1286\n7         1      2804       5            0          2803\n8         1       594       4            0           593\n9         1       919       4            0           918\n10        1       595       5            0           594\n11        1       938       4            0           937\n12        1      2398       4            0          2397\n13        1      2918       4            0          2917\n14        1      1035       5            0          1034\n15        1      2791       4            0          2790\n16        1      2687       3            0          2686\n17        1      2018       4            0          2017\n18        1      3105       5            0          3104\n19        1      2797       4            0          2796",
      "text/html": "<div>\n<style scoped>\n    .dataframe tbody tr th:only-of-type {\n        vertical-align: middle;\n    }\n\n    .dataframe tbody tr th {\n        vertical-align: top;\n    }\n\n    .dataframe thead th {\n        text-align: right;\n    }\n</style>\n<table border=\"1\" class=\"dataframe\">\n  <thead>\n    <tr style=\"text-align: right;\">\n      <th></th>\n      <th>user_id</th>\n      <th>movie_id</th>\n      <th>rating</th>\n      <th>user_emb_id</th>\n      <th>movie_emb_id</th>\n    </tr>\n  </thead>\n  <tbody>\n    <tr>\n      <th>0</th>\n      <td>1</td>\n      <td>1193</td>\n      <td>5</td>\n      <td>0</td>\n      <td>1192</td>\n    </tr>\n    <tr>\n      <th>1</th>\n      <td>1</td>\n      <td>661</td>\n      <td>3</td>\n      <td>0</td>\n      <td>660</td>\n    </tr>\n    <tr>\n      <th>2</th>\n      <td>1</td>\n      <td>914</td>\n      <td>3</td>\n      <td>0</td>\n      <td>913</td>\n    </tr>\n    <tr>\n      <th>3</th>\n      <td>1</td>\n      <td>3408</td>\n      <td>4</td>\n      <td>0</td>\n      <td>3407</td>\n    </tr>\n    <tr>\n      <th>4</th>\n      <td>1</td>\n      <td>2355</td>\n      <td>5</td>\n      <td>0</td>\n      <td>2354</td>\n    </tr>\n    <tr>\n      <th>5</th>\n      <td>1</td>\n      <td>1197</td>\n      <td>3</td>\n      <td>0</td>\n      <td>1196</td>\n    </tr>\n    <tr>\n      <th>6</th>\n      <td>1</td>\n      <td>1287</td>\n      <td>5</td>\n      <td>0</td>\n      <td>1286</td>\n    </tr>\n    <tr>\n      <th>7</th>\n      <td>1</td>\n      <td>2804</td>\n      <td>5</td>\n      <td>0</td>\n      <td>2803</td>\n    </tr>\n    <tr>\n      <th>8</th>\n      <td>1</td>\n      <td>594</td>\n      <td>4</td>\n      <td>0</td>\n      <td>593</td>\n    </tr>\n    <tr>\n      <th>9</th>\n      <td>1</td>\n      <td>919</td>\n      <td>4</td>\n      <td>0</td>\n      <td>918</td>\n    </tr>\n    <tr>\n      <th>10</th>\n      <td>1</td>\n      <td>595</td>\n      <td>5</td>\n      <td>0</td>\n      <td>594</td>\n    </tr>\n    <tr>\n      <th>11</th>\n      <td>1</td>\n      <td>938</td>\n      <td>4</td>\n      <td>0</td>\n      <td>937</td>\n    </tr>\n    <tr>\n      <th>12</th>\n      <td>1</td>\n      <td>2398</td>\n      <td>4</td>\n      <td>0</td>\n      <td>2397</td>\n    </tr>\n    <tr>\n      <th>13</th>\n      <td>1</td>\n      <td>2918</td>\n      <td>4</td>\n      <td>0</td>\n      <td>2917</td>\n    </tr>\n    <tr>\n      <th>14</th>\n      <td>1</td>\n      <td>1035</td>\n      <td>5</td>\n      <td>0</td>\n      <td>1034</td>\n    </tr>\n    <tr>\n      <th>15</th>\n      <td>1</td>\n      <td>2791</td>\n      <td>4</td>\n      <td>0</td>\n      <td>2790</td>\n    </tr>\n    <tr>\n      <th>16</th>\n      <td>1</td>\n      <td>2687</td>\n      <td>3</td>\n      <td>0</td>\n      <td>2686</td>\n    </tr>\n    <tr>\n      <th>17</th>\n      <td>1</td>\n      <td>2018</td>\n      <td>4</td>\n      <td>0</td>\n      <td>2017</td>\n    </tr>\n    <tr>\n      <th>18</th>\n      <td>1</td>\n      <td>3105</td>\n      <td>5</td>\n      <td>0</td>\n      <td>3104</td>\n    </tr>\n    <tr>\n      <th>19</th>\n      <td>1</td>\n      <td>2797</td>\n      <td>4</td>\n      <td>0</td>\n      <td>2796</td>\n    </tr>\n  </tbody>\n</table>\n</div>"
     },
     "metadata": {}
    }
   ]
  },
  {
   "cell_type": "code",
   "source": [
    "# Top 20 movies that User 4375 has rated\n",
    "already_rated.head(20)"
   ],
   "metadata": {
    "colab": {
     "base_uri": "https://localhost:8080/",
     "height": 676
    },
    "id": "wXy5tpV5_Qu0",
    "outputId": "6490fde7-f208-4c33-f1bd-a4e4ca8979a0",
    "pycharm": {
     "name": "#%%\n"
    }
   },
   "execution_count": null,
   "outputs": [
    {
     "execution_count": 31,
     "output_type": "execute_result",
     "data": {
      "application/vnd.google.colaboratory.intrinsic+json": {
       "summary": "{\n  \"name\": \"already_rated\",\n  \"rows\": 325,\n  \"fields\": [\n    {\n      \"column\": \"user_id\",\n      \"properties\": {\n        \"dtype\": \"number\",\n        \"std\": 0,\n        \"min\": 4375,\n        \"max\": 4375,\n        \"num_unique_values\": 1,\n        \"samples\": [\n          4375\n        ],\n        \"semantic_type\": \"\",\n        \"description\": \"\"\n      }\n    },\n    {\n      \"column\": \"movie_id\",\n      \"properties\": {\n        \"dtype\": \"number\",\n        \"std\": 1076,\n        \"min\": 1,\n        \"max\": 3846,\n        \"num_unique_values\": 325,\n        \"samples\": [\n          673\n        ],\n        \"semantic_type\": \"\",\n        \"description\": \"\"\n      }\n    },\n    {\n      \"column\": \"rating\",\n      \"properties\": {\n        \"dtype\": \"number\",\n        \"std\": 0,\n        \"min\": 1,\n        \"max\": 5,\n        \"num_unique_values\": 5,\n        \"samples\": [\n          4\n        ],\n        \"semantic_type\": \"\",\n        \"description\": \"\"\n      }\n    },\n    {\n      \"column\": \"user_emb_id\",\n      \"properties\": {\n        \"dtype\": \"number\",\n        \"std\": 0,\n        \"min\": 4374,\n        \"max\": 4374,\n        \"num_unique_values\": 1,\n        \"samples\": [\n          4374\n        ],\n        \"semantic_type\": \"\",\n        \"description\": \"\"\n      }\n    },\n    {\n      \"column\": \"movie_emb_id\",\n      \"properties\": {\n        \"dtype\": \"number\",\n        \"std\": 1076,\n        \"min\": 0,\n        \"max\": 3845,\n        \"num_unique_values\": 325,\n        \"samples\": [\n          672\n        ],\n        \"semantic_type\": \"\",\n        \"description\": \"\"\n      }\n    },\n    {\n      \"column\": \"title\",\n      \"properties\": {\n        \"dtype\": \"string\",\n        \"num_unique_values\": 325,\n        \"samples\": [\n          \"Space Jam (1996)\"\n        ],\n        \"semantic_type\": \"\",\n        \"description\": \"\"\n      }\n    },\n    {\n      \"column\": \"genres\",\n      \"properties\": {\n        \"dtype\": \"category\",\n        \"num_unique_values\": 93,\n        \"samples\": [\n          \"['Comedy', 'Crime']\"\n        ],\n        \"semantic_type\": \"\",\n        \"description\": \"\"\n      }\n    }\n  ]\n}",
       "type": "dataframe",
       "variable_name": "already_rated"
      },
      "text/html": [
       "\n",
       "  <div id=\"df-f01c6e3e-d1cb-47fd-b1a1-1ad47dcdb6aa\" class=\"colab-df-container\">\n",
       "    <div>\n",
       "<style scoped>\n",
       "    .dataframe tbody tr th:only-of-type {\n",
       "        vertical-align: middle;\n",
       "    }\n",
       "\n",
       "    .dataframe tbody tr th {\n",
       "        vertical-align: top;\n",
       "    }\n",
       "\n",
       "    .dataframe thead th {\n",
       "        text-align: right;\n",
       "    }\n",
       "</style>\n",
       "<table border=\"1\" class=\"dataframe\">\n",
       "  <thead>\n",
       "    <tr style=\"text-align: right;\">\n",
       "      <th></th>\n",
       "      <th>user_id</th>\n",
       "      <th>movie_id</th>\n",
       "      <th>rating</th>\n",
       "      <th>user_emb_id</th>\n",
       "      <th>movie_emb_id</th>\n",
       "      <th>title</th>\n",
       "      <th>genres</th>\n",
       "    </tr>\n",
       "  </thead>\n",
       "  <tbody>\n",
       "    <tr>\n",
       "      <th>195</th>\n",
       "      <td>4375</td>\n",
       "      <td>3250</td>\n",
       "      <td>5</td>\n",
       "      <td>4374</td>\n",
       "      <td>3249</td>\n",
       "      <td>Alive (1993)</td>\n",
       "      <td>['Drama']</td>\n",
       "    </tr>\n",
       "    <tr>\n",
       "      <th>285</th>\n",
       "      <td>4375</td>\n",
       "      <td>175</td>\n",
       "      <td>5</td>\n",
       "      <td>4374</td>\n",
       "      <td>174</td>\n",
       "      <td>Kids (1995)</td>\n",
       "      <td>['Drama']</td>\n",
       "    </tr>\n",
       "    <tr>\n",
       "      <th>199</th>\n",
       "      <td>4375</td>\n",
       "      <td>3257</td>\n",
       "      <td>5</td>\n",
       "      <td>4374</td>\n",
       "      <td>3256</td>\n",
       "      <td>Bodyguard, The (1992)</td>\n",
       "      <td>['Action', 'Drama', 'Romance', 'Thriller']</td>\n",
       "    </tr>\n",
       "    <tr>\n",
       "      <th>65</th>\n",
       "      <td>4375</td>\n",
       "      <td>3809</td>\n",
       "      <td>5</td>\n",
       "      <td>4374</td>\n",
       "      <td>3808</td>\n",
       "      <td>What About Bob? (1991)</td>\n",
       "      <td>['Comedy']</td>\n",
       "    </tr>\n",
       "    <tr>\n",
       "      <th>210</th>\n",
       "      <td>4375</td>\n",
       "      <td>2688</td>\n",
       "      <td>5</td>\n",
       "      <td>4374</td>\n",
       "      <td>2687</td>\n",
       "      <td>General's Daughter, The (1999)</td>\n",
       "      <td>['Drama', 'Thriller']</td>\n",
       "    </tr>\n",
       "    <tr>\n",
       "      <th>270</th>\n",
       "      <td>4375</td>\n",
       "      <td>150</td>\n",
       "      <td>5</td>\n",
       "      <td>4374</td>\n",
       "      <td>149</td>\n",
       "      <td>Apollo 13 (1995)</td>\n",
       "      <td>['Drama']</td>\n",
       "    </tr>\n",
       "    <tr>\n",
       "      <th>271</th>\n",
       "      <td>4375</td>\n",
       "      <td>2710</td>\n",
       "      <td>5</td>\n",
       "      <td>4374</td>\n",
       "      <td>2709</td>\n",
       "      <td>Blair Witch Project, The (1999)</td>\n",
       "      <td>['Horror']</td>\n",
       "    </tr>\n",
       "    <tr>\n",
       "      <th>125</th>\n",
       "      <td>4375</td>\n",
       "      <td>349</td>\n",
       "      <td>5</td>\n",
       "      <td>4374</td>\n",
       "      <td>348</td>\n",
       "      <td>Clear and Present Danger (1994)</td>\n",
       "      <td>['Action', 'Adventure', 'Thriller']</td>\n",
       "    </tr>\n",
       "    <tr>\n",
       "      <th>60</th>\n",
       "      <td>4375</td>\n",
       "      <td>288</td>\n",
       "      <td>5</td>\n",
       "      <td>4374</td>\n",
       "      <td>287</td>\n",
       "      <td>Natural Born Killers (1994)</td>\n",
       "      <td>['Action', 'Thriller']</td>\n",
       "    </tr>\n",
       "    <tr>\n",
       "      <th>141</th>\n",
       "      <td>4375</td>\n",
       "      <td>47</td>\n",
       "      <td>5</td>\n",
       "      <td>4374</td>\n",
       "      <td>46</td>\n",
       "      <td>Seven (Se7en) (1995)</td>\n",
       "      <td>['Crime', 'Thriller']</td>\n",
       "    </tr>\n",
       "    <tr>\n",
       "      <th>237</th>\n",
       "      <td>4375</td>\n",
       "      <td>1347</td>\n",
       "      <td>5</td>\n",
       "      <td>4374</td>\n",
       "      <td>1346</td>\n",
       "      <td>Nightmare on Elm Street, A (1984)</td>\n",
       "      <td>['Horror']</td>\n",
       "    </tr>\n",
       "    <tr>\n",
       "      <th>57</th>\n",
       "      <td>4375</td>\n",
       "      <td>3499</td>\n",
       "      <td>5</td>\n",
       "      <td>4374</td>\n",
       "      <td>3498</td>\n",
       "      <td>Misery (1990)</td>\n",
       "      <td>['Horror']</td>\n",
       "    </tr>\n",
       "    <tr>\n",
       "      <th>143</th>\n",
       "      <td>4375</td>\n",
       "      <td>1982</td>\n",
       "      <td>5</td>\n",
       "      <td>4374</td>\n",
       "      <td>1981</td>\n",
       "      <td>Halloween (1978)</td>\n",
       "      <td>['Horror']</td>\n",
       "    </tr>\n",
       "    <tr>\n",
       "      <th>277</th>\n",
       "      <td>4375</td>\n",
       "      <td>165</td>\n",
       "      <td>5</td>\n",
       "      <td>4374</td>\n",
       "      <td>164</td>\n",
       "      <td>Die Hard: With a Vengeance (1995)</td>\n",
       "      <td>['Action', 'Thriller']</td>\n",
       "    </tr>\n",
       "    <tr>\n",
       "      <th>54</th>\n",
       "      <td>4375</td>\n",
       "      <td>1888</td>\n",
       "      <td>5</td>\n",
       "      <td>4374</td>\n",
       "      <td>1887</td>\n",
       "      <td>Hope Floats (1998)</td>\n",
       "      <td>['Comedy', 'Drama', 'Romance']</td>\n",
       "    </tr>\n",
       "    <tr>\n",
       "      <th>53</th>\n",
       "      <td>4375</td>\n",
       "      <td>267</td>\n",
       "      <td>5</td>\n",
       "      <td>4374</td>\n",
       "      <td>266</td>\n",
       "      <td>Major Payne (1994)</td>\n",
       "      <td>['Comedy']</td>\n",
       "    </tr>\n",
       "    <tr>\n",
       "      <th>144</th>\n",
       "      <td>4375</td>\n",
       "      <td>1983</td>\n",
       "      <td>5</td>\n",
       "      <td>4374</td>\n",
       "      <td>1982</td>\n",
       "      <td>Halloween II (1981)</td>\n",
       "      <td>['Horror']</td>\n",
       "    </tr>\n",
       "    <tr>\n",
       "      <th>51</th>\n",
       "      <td>4375</td>\n",
       "      <td>253</td>\n",
       "      <td>5</td>\n",
       "      <td>4374</td>\n",
       "      <td>252</td>\n",
       "      <td>Interview with the Vampire (1994)</td>\n",
       "      <td>['Drama', 'Horror']</td>\n",
       "    </tr>\n",
       "    <tr>\n",
       "      <th>50</th>\n",
       "      <td>4375</td>\n",
       "      <td>2803</td>\n",
       "      <td>5</td>\n",
       "      <td>4374</td>\n",
       "      <td>2802</td>\n",
       "      <td>Pelican Brief, The (1993)</td>\n",
       "      <td>['Thriller']</td>\n",
       "    </tr>\n",
       "    <tr>\n",
       "      <th>280</th>\n",
       "      <td>4375</td>\n",
       "      <td>3386</td>\n",
       "      <td>5</td>\n",
       "      <td>4374</td>\n",
       "      <td>3385</td>\n",
       "      <td>JFK (1991)</td>\n",
       "      <td>['Drama', 'Mystery']</td>\n",
       "    </tr>\n",
       "  </tbody>\n",
       "</table>\n",
       "</div>\n",
       "    <div class=\"colab-df-buttons\">\n",
       "\n",
       "  <div class=\"colab-df-container\">\n",
       "    <button class=\"colab-df-convert\" onclick=\"convertToInteractive('df-f01c6e3e-d1cb-47fd-b1a1-1ad47dcdb6aa')\"\n",
       "            title=\"Convert this dataframe to an interactive table.\"\n",
       "            style=\"display:none;\">\n",
       "\n",
       "  <svg xmlns=\"http://www.w3.org/2000/svg\" height=\"24px\" viewBox=\"0 -960 960 960\">\n",
       "    <path d=\"M120-120v-720h720v720H120Zm60-500h600v-160H180v160Zm220 220h160v-160H400v160Zm0 220h160v-160H400v160ZM180-400h160v-160H180v160Zm440 0h160v-160H620v160ZM180-180h160v-160H180v160Zm440 0h160v-160H620v160Z\"/>\n",
       "  </svg>\n",
       "    </button>\n",
       "\n",
       "  <style>\n",
       "    .colab-df-container {\n",
       "      display:flex;\n",
       "      gap: 12px;\n",
       "    }\n",
       "\n",
       "    .colab-df-convert {\n",
       "      background-color: #E8F0FE;\n",
       "      border: none;\n",
       "      border-radius: 50%;\n",
       "      cursor: pointer;\n",
       "      display: none;\n",
       "      fill: #1967D2;\n",
       "      height: 32px;\n",
       "      padding: 0 0 0 0;\n",
       "      width: 32px;\n",
       "    }\n",
       "\n",
       "    .colab-df-convert:hover {\n",
       "      background-color: #E2EBFA;\n",
       "      box-shadow: 0px 1px 2px rgba(60, 64, 67, 0.3), 0px 1px 3px 1px rgba(60, 64, 67, 0.15);\n",
       "      fill: #174EA6;\n",
       "    }\n",
       "\n",
       "    .colab-df-buttons div {\n",
       "      margin-bottom: 4px;\n",
       "    }\n",
       "\n",
       "    [theme=dark] .colab-df-convert {\n",
       "      background-color: #3B4455;\n",
       "      fill: #D2E3FC;\n",
       "    }\n",
       "\n",
       "    [theme=dark] .colab-df-convert:hover {\n",
       "      background-color: #434B5C;\n",
       "      box-shadow: 0px 1px 3px 1px rgba(0, 0, 0, 0.15);\n",
       "      filter: drop-shadow(0px 1px 2px rgba(0, 0, 0, 0.3));\n",
       "      fill: #FFFFFF;\n",
       "    }\n",
       "  </style>\n",
       "\n",
       "    <script>\n",
       "      const buttonEl =\n",
       "        document.querySelector('#df-f01c6e3e-d1cb-47fd-b1a1-1ad47dcdb6aa button.colab-df-convert');\n",
       "      buttonEl.style.display =\n",
       "        google.colab.kernel.accessAllowed ? 'block' : 'none';\n",
       "\n",
       "      async function convertToInteractive(key) {\n",
       "        const element = document.querySelector('#df-f01c6e3e-d1cb-47fd-b1a1-1ad47dcdb6aa');\n",
       "        const dataTable =\n",
       "          await google.colab.kernel.invokeFunction('convertToInteractive',\n",
       "                                                    [key], {});\n",
       "        if (!dataTable) return;\n",
       "\n",
       "        const docLinkHtml = 'Like what you see? Visit the ' +\n",
       "          '<a target=\"_blank\" href=https://colab.research.google.com/notebooks/data_table.ipynb>data table notebook</a>'\n",
       "          + ' to learn more about interactive tables.';\n",
       "        element.innerHTML = '';\n",
       "        dataTable['output_type'] = 'display_data';\n",
       "        await google.colab.output.renderOutput(dataTable, element);\n",
       "        const docLink = document.createElement('div');\n",
       "        docLink.innerHTML = docLinkHtml;\n",
       "        element.appendChild(docLink);\n",
       "      }\n",
       "    </script>\n",
       "  </div>\n",
       "\n",
       "\n",
       "<div id=\"df-eef47761-39f0-40bb-a552-0329810931e7\">\n",
       "  <button class=\"colab-df-quickchart\" onclick=\"quickchart('df-eef47761-39f0-40bb-a552-0329810931e7')\"\n",
       "            title=\"Suggest charts\"\n",
       "            style=\"display:none;\">\n",
       "\n",
       "<svg xmlns=\"http://www.w3.org/2000/svg\" height=\"24px\"viewBox=\"0 0 24 24\"\n",
       "     width=\"24px\">\n",
       "    <g>\n",
       "        <path d=\"M19 3H5c-1.1 0-2 .9-2 2v14c0 1.1.9 2 2 2h14c1.1 0 2-.9 2-2V5c0-1.1-.9-2-2-2zM9 17H7v-7h2v7zm4 0h-2V7h2v10zm4 0h-2v-4h2v4z\"/>\n",
       "    </g>\n",
       "</svg>\n",
       "  </button>\n",
       "\n",
       "<style>\n",
       "  .colab-df-quickchart {\n",
       "      --bg-color: #E8F0FE;\n",
       "      --fill-color: #1967D2;\n",
       "      --hover-bg-color: #E2EBFA;\n",
       "      --hover-fill-color: #174EA6;\n",
       "      --disabled-fill-color: #AAA;\n",
       "      --disabled-bg-color: #DDD;\n",
       "  }\n",
       "\n",
       "  [theme=dark] .colab-df-quickchart {\n",
       "      --bg-color: #3B4455;\n",
       "      --fill-color: #D2E3FC;\n",
       "      --hover-bg-color: #434B5C;\n",
       "      --hover-fill-color: #FFFFFF;\n",
       "      --disabled-bg-color: #3B4455;\n",
       "      --disabled-fill-color: #666;\n",
       "  }\n",
       "\n",
       "  .colab-df-quickchart {\n",
       "    background-color: var(--bg-color);\n",
       "    border: none;\n",
       "    border-radius: 50%;\n",
       "    cursor: pointer;\n",
       "    display: none;\n",
       "    fill: var(--fill-color);\n",
       "    height: 32px;\n",
       "    padding: 0;\n",
       "    width: 32px;\n",
       "  }\n",
       "\n",
       "  .colab-df-quickchart:hover {\n",
       "    background-color: var(--hover-bg-color);\n",
       "    box-shadow: 0 1px 2px rgba(60, 64, 67, 0.3), 0 1px 3px 1px rgba(60, 64, 67, 0.15);\n",
       "    fill: var(--button-hover-fill-color);\n",
       "  }\n",
       "\n",
       "  .colab-df-quickchart-complete:disabled,\n",
       "  .colab-df-quickchart-complete:disabled:hover {\n",
       "    background-color: var(--disabled-bg-color);\n",
       "    fill: var(--disabled-fill-color);\n",
       "    box-shadow: none;\n",
       "  }\n",
       "\n",
       "  .colab-df-spinner {\n",
       "    border: 2px solid var(--fill-color);\n",
       "    border-color: transparent;\n",
       "    border-bottom-color: var(--fill-color);\n",
       "    animation:\n",
       "      spin 1s steps(1) infinite;\n",
       "  }\n",
       "\n",
       "  @keyframes spin {\n",
       "    0% {\n",
       "      border-color: transparent;\n",
       "      border-bottom-color: var(--fill-color);\n",
       "      border-left-color: var(--fill-color);\n",
       "    }\n",
       "    20% {\n",
       "      border-color: transparent;\n",
       "      border-left-color: var(--fill-color);\n",
       "      border-top-color: var(--fill-color);\n",
       "    }\n",
       "    30% {\n",
       "      border-color: transparent;\n",
       "      border-left-color: var(--fill-color);\n",
       "      border-top-color: var(--fill-color);\n",
       "      border-right-color: var(--fill-color);\n",
       "    }\n",
       "    40% {\n",
       "      border-color: transparent;\n",
       "      border-right-color: var(--fill-color);\n",
       "      border-top-color: var(--fill-color);\n",
       "    }\n",
       "    60% {\n",
       "      border-color: transparent;\n",
       "      border-right-color: var(--fill-color);\n",
       "    }\n",
       "    80% {\n",
       "      border-color: transparent;\n",
       "      border-right-color: var(--fill-color);\n",
       "      border-bottom-color: var(--fill-color);\n",
       "    }\n",
       "    90% {\n",
       "      border-color: transparent;\n",
       "      border-bottom-color: var(--fill-color);\n",
       "    }\n",
       "  }\n",
       "</style>\n",
       "\n",
       "  <script>\n",
       "    async function quickchart(key) {\n",
       "      const quickchartButtonEl =\n",
       "        document.querySelector('#' + key + ' button');\n",
       "      quickchartButtonEl.disabled = true;  // To prevent multiple clicks.\n",
       "      quickchartButtonEl.classList.add('colab-df-spinner');\n",
       "      try {\n",
       "        const charts = await google.colab.kernel.invokeFunction(\n",
       "            'suggestCharts', [key], {});\n",
       "      } catch (error) {\n",
       "        console.error('Error during call to suggestCharts:', error);\n",
       "      }\n",
       "      quickchartButtonEl.classList.remove('colab-df-spinner');\n",
       "      quickchartButtonEl.classList.add('colab-df-quickchart-complete');\n",
       "    }\n",
       "    (() => {\n",
       "      let quickchartButtonEl =\n",
       "        document.querySelector('#df-eef47761-39f0-40bb-a552-0329810931e7 button');\n",
       "      quickchartButtonEl.style.display =\n",
       "        google.colab.kernel.accessAllowed ? 'block' : 'none';\n",
       "    })();\n",
       "  </script>\n",
       "</div>\n",
       "    </div>\n",
       "  </div>\n"
      ],
      "text/plain": [
       "     user_id  movie_id  rating  user_emb_id  movie_emb_id  \\\n",
       "195     4375      3250       5         4374          3249   \n",
       "285     4375       175       5         4374           174   \n",
       "199     4375      3257       5         4374          3256   \n",
       "65      4375      3809       5         4374          3808   \n",
       "210     4375      2688       5         4374          2687   \n",
       "270     4375       150       5         4374           149   \n",
       "271     4375      2710       5         4374          2709   \n",
       "125     4375       349       5         4374           348   \n",
       "60      4375       288       5         4374           287   \n",
       "141     4375        47       5         4374            46   \n",
       "237     4375      1347       5         4374          1346   \n",
       "57      4375      3499       5         4374          3498   \n",
       "143     4375      1982       5         4374          1981   \n",
       "277     4375       165       5         4374           164   \n",
       "54      4375      1888       5         4374          1887   \n",
       "53      4375       267       5         4374           266   \n",
       "144     4375      1983       5         4374          1982   \n",
       "51      4375       253       5         4374           252   \n",
       "50      4375      2803       5         4374          2802   \n",
       "280     4375      3386       5         4374          3385   \n",
       "\n",
       "                                 title  \\\n",
       "195                       Alive (1993)   \n",
       "285                        Kids (1995)   \n",
       "199              Bodyguard, The (1992)   \n",
       "65              What About Bob? (1991)   \n",
       "210     General's Daughter, The (1999)   \n",
       "270                   Apollo 13 (1995)   \n",
       "271    Blair Witch Project, The (1999)   \n",
       "125    Clear and Present Danger (1994)   \n",
       "60         Natural Born Killers (1994)   \n",
       "141               Seven (Se7en) (1995)   \n",
       "237  Nightmare on Elm Street, A (1984)   \n",
       "57                       Misery (1990)   \n",
       "143                   Halloween (1978)   \n",
       "277  Die Hard: With a Vengeance (1995)   \n",
       "54                  Hope Floats (1998)   \n",
       "53                  Major Payne (1994)   \n",
       "144                Halloween II (1981)   \n",
       "51   Interview with the Vampire (1994)   \n",
       "50           Pelican Brief, The (1993)   \n",
       "280                         JFK (1991)   \n",
       "\n",
       "                                         genres  \n",
       "195                                   ['Drama']  \n",
       "285                                   ['Drama']  \n",
       "199  ['Action', 'Drama', 'Romance', 'Thriller']  \n",
       "65                                   ['Comedy']  \n",
       "210                       ['Drama', 'Thriller']  \n",
       "270                                   ['Drama']  \n",
       "271                                  ['Horror']  \n",
       "125         ['Action', 'Adventure', 'Thriller']  \n",
       "60                       ['Action', 'Thriller']  \n",
       "141                       ['Crime', 'Thriller']  \n",
       "237                                  ['Horror']  \n",
       "57                                   ['Horror']  \n",
       "143                                  ['Horror']  \n",
       "277                      ['Action', 'Thriller']  \n",
       "54               ['Comedy', 'Drama', 'Romance']  \n",
       "53                                   ['Comedy']  \n",
       "144                                  ['Horror']  \n",
       "51                          ['Drama', 'Horror']  \n",
       "50                                 ['Thriller']  \n",
       "280                        ['Drama', 'Mystery']  "
      ]
     },
     "metadata": {}
    }
   ]
  },
  {
   "cell_type": "markdown",
   "source": [
    "#### Evaluation"
   ],
   "metadata": {
    "id": "t5g9DqGv00wK",
    "pycharm": {
     "name": "#%% md\n"
    }
   }
  },
  {
   "cell_type": "code",
   "source": [
    "import pandas as pd\n",
    "import numpy as np\n",
    "from sklearn.model_selection import train_test_split\n",
    "from sklearn.metrics import mean_squared_error\n",
    "from math import sqrt\n",
    "\n",
    "train_data, test_data = train_test_split(ratings, test_size=0.2, random_state=42)\n",
    "\n",
    "train_ratings = train_data.pivot(index='user_id', columns='movie_id', values='rating').fillna(0)\n",
    "R_train = train_ratings.values\n",
    "user_ratings_mean_train = np.mean(R_train, axis=1)\n",
    "Ratings_demeaned_train = R_train - user_ratings_mean_train.reshape(-1, 1)\n",
    "\n",
    "U_train, sigma_train, Vt_train = svds(Ratings_demeaned_train, k=50)\n",
    "sigma_train = np.diag(sigma_train)\n",
    "\n",
    "all_user_predicted_ratings_train = np.dot(np.dot(U_train, sigma_train), Vt_train) + user_ratings_mean_train.reshape(-1, 1)\n",
    "preds_train = pd.DataFrame(all_user_predicted_ratings_train, index=train_ratings.index, columns=train_ratings.columns)\n",
    "\n",
    "def predict_rating(user_id, movie_id):\n",
    "    if user_id in preds_train.index and movie_id in preds_train.columns:\n",
    "        return preds_train.at[user_id, movie_id]\n",
    "    else:\n",
    "        return np.nan\n",
    "\n",
    "test_data['predicted_rating'] = test_data.apply(lambda x: predict_rating(x['user_id'], x['movie_id']), axis=1)\n",
    "\n",
    "test_data.dropna(inplace=True)\n",
    "\n",
    "rmse = sqrt(mean_squared_error(test_data['rating'], test_data['predicted_rating']))\n",
    "print(f'Root Mean Squared Error: {rmse}')"
   ],
   "metadata": {
    "colab": {
     "base_uri": "https://localhost:8080/"
    },
    "id": "XL1O76fF4w-D",
    "outputId": "f632c245-fea9-4eb9-f375-6458c7b49b97",
    "pycharm": {
     "name": "#%%\n"
    },
    "execution": {
     "iopub.status.busy": "2024-06-26T11:00:26.087655Z",
     "iopub.execute_input": "2024-06-26T11:00:26.088018Z",
     "iopub.status.idle": "2024-06-26T11:00:37.226940Z",
     "shell.execute_reply.started": "2024-06-26T11:00:26.087989Z",
     "shell.execute_reply": "2024-06-26T11:00:37.225888Z"
    },
    "trusted": true
   },
   "execution_count": 94,
   "outputs": [
    {
     "name": "stdout",
     "text": "Root Mean Squared Error: 2.7404660761407365\n",
     "output_type": "stream"
    }
   ]
  },
  {
   "cell_type": "markdown",
   "source": [
    "### Nueral Network Model (Recommender Model)\n",
    "\n"
   ],
   "metadata": {
    "id": "ASbIipkUgPuh",
    "pycharm": {
     "name": "#%% md\n"
    }
   }
  },
  {
   "cell_type": "markdown",
   "source": [
    "**Objective**: Implement a Recommender model to recommend movies to a user based on similar users' preferences.\n",
    "\n",
    "**Dataset**:\n",
    "- **Ratings Data**: DataFrame with columns `user_id`, `movie_id`, and `rating`.\n",
    "- **Movies Data**: DataFrame with columns `movie_id`, `title`, and `genres`.\n",
    "\n",
    "**Steps**:\n",
    "\n",
    "1. **Define Dataset and DataLoader**:\n",
    "   - Create a custom PyTorch `Dataset` for ratings.\n",
    "   - Create a DataLoader for batching and shuffling data.\n",
    "\n",
    "2. **Define the Neural Network**:\n",
    "   - Create a neural network with embedding layers for users and movies.\n",
    "\n",
    "3. **Train the Model**:\n",
    "   - Train the model using Mean Squared Error loss and Adam optimizer.\n",
    "   - Save model checkpoints.\n",
    "\n",
    "4. **Evaluate the Model**:\n",
    "   - Calculate RMSE on the entire dataset.\n",
    "\n",
    "5. **Predict Ratings for Unrated Movies**:\n",
    "   - Predict and recommend top 10 unrated movies for a given user."
   ],
   "metadata": {
    "id": "eOTExLKq3dIl",
    "pycharm": {
     "name": "#%% md\n"
    }
   }
  },
  {
   "cell_type": "code",
   "source": [
    "import torch\n",
    "from torch.utils.data import Dataset, DataLoader\n",
    "import torch.nn as nn\n",
    "import torch.optim as optim\n",
    "import pandas as pd\n",
    "import numpy as np\n",
    "from tqdm import tqdm"
   ],
   "metadata": {
    "id": "7eiOWdgZQIeb",
    "pycharm": {
     "name": "#%%\n"
    },
    "execution": {
     "iopub.status.busy": "2024-06-26T11:35:13.451593Z",
     "iopub.execute_input": "2024-06-26T11:35:13.452522Z",
     "iopub.status.idle": "2024-06-26T11:35:13.457052Z",
     "shell.execute_reply.started": "2024-06-26T11:35:13.452489Z",
     "shell.execute_reply": "2024-06-26T11:35:13.456268Z"
    },
    "trusted": true
   },
   "execution_count": 125,
   "outputs": []
  },
  {
   "cell_type": "code",
   "source": [
    "ratings_copy = ratings.copy()\n",
    "movies_copy = movies.copy()"
   ],
   "metadata": {
    "execution": {
     "iopub.status.busy": "2024-06-26T11:56:44.196317Z",
     "iopub.execute_input": "2024-06-26T11:56:44.196997Z",
     "iopub.status.idle": "2024-06-26T11:56:44.218865Z",
     "shell.execute_reply.started": "2024-06-26T11:56:44.196958Z",
     "shell.execute_reply": "2024-06-26T11:56:44.217796Z"
    },
    "trusted": true,
    "pycharm": {
     "name": "#%%\n"
    }
   },
   "execution_count": 134,
   "outputs": []
  },
  {
   "cell_type": "code",
   "source": [
    "ratings = ratings_copy.copy()\n",
    "# Define the dataset\n",
    "class RatingsDataset(Dataset):\n",
    "    def __init__(self, ratings):\n",
    "        self.users = ratings['user_id'].to_numpy()\n",
    "        self.movies = ratings['movie_id'].to_numpy()\n",
    "        self.ratings = ratings['rating'].to_numpy()\n",
    "\n",
    "    def __len__(self):\n",
    "        return len(self.ratings)\n",
    "\n",
    "    def __getitem__(self, idx):\n",
    "        return (\n",
    "            torch.tensor(self.users[idx], dtype=torch.long),\n",
    "            torch.tensor(self.movies[idx], dtype=torch.long),\n",
    "            torch.tensor(self.ratings[idx], dtype=torch.float)\n",
    "        )\n",
    "\n",
    "\n",
    "# Define the neural network\n",
    "class RecommenderNet(nn.Module):\n",
    "    def __init__(self, num_users, num_movies, embedding_size=50):\n",
    "        super(RecommenderNet, self).__init__()\n",
    "        self.user_embedding = nn.Embedding(num_users, embedding_size)\n",
    "        self.movie_embedding = nn.Embedding(num_movies, embedding_size)\n",
    "        self.fc1 = nn.Linear(embedding_size * 2, 128)\n",
    "        self.fc2 = nn.Linear(128, 1)\n",
    "        self.dropout = nn.Dropout(0.2)\n",
    "\n",
    "    def forward(self, user, movie):\n",
    "        user_emb = self.user_embedding(user)\n",
    "        movie_emb = self.movie_embedding(movie)\n",
    "        x = torch.cat([user_emb, movie_emb], dim=1)\n",
    "        x = torch.relu(self.fc1(x))\n",
    "        x = self.dropout(x)\n",
    "        x = torch.relu(self.fc2(x))\n",
    "        return x.view(-1)\n",
    "\n",
    "# Create the dataset and dataloader\n",
    "dataset = RatingsDataset(ratings)\n",
    "dataloader = DataLoader(dataset, batch_size=512, shuffle=True)\n",
    "\n",
    "# Initialize the model, loss function and optimizer\n",
    "num_users = ratings['user_id'].max()\n",
    "num_movies = ratings['movie_id'].max()\n",
    "model = RecommenderNet(num_users + 1, num_movies + 1)\n",
    "criterion = nn.MSELoss()\n",
    "optimizer = optim.Adam(model.parameters(), lr=0.001)\n",
    "\n",
    "# Training loop\n",
    "num_epochs = 5\n",
    "for epoch in range(num_epochs):\n",
    "    model.train()\n",
    "    running_loss = 0.0\n",
    "    with tqdm(dataloader, unit=\"batch\") as tepoch:\n",
    "        for users, movies, ratings in tepoch:\n",
    "            tepoch.set_description(f\"Epoch {epoch + 1}\")\n",
    "            optimizer.zero_grad()\n",
    "            outputs = model(users, movies)\n",
    "            loss = criterion(outputs, ratings)\n",
    "            loss.backward()\n",
    "            optimizer.step()\n",
    "            running_loss += loss.item()\n",
    "            tepoch.set_postfix(loss=running_loss / len(tepoch))\n",
    "            \n",
    "# Evaluation\n",
    "model.eval()\n",
    "total_loss = 0\n",
    "with torch.no_grad():\n",
    "    with tqdm(dataloader, unit=\"batch\") as tepoch:\n",
    "        for users, movies, ratings in tepoch:\n",
    "            tepoch.set_description(\"Evaluating\")\n",
    "            outputs = model(users, movies)\n",
    "            loss = criterion(outputs, ratings)\n",
    "            total_loss += loss.item()\n",
    "            tepoch.set_postfix(loss=total_loss / len(tepoch))\n",
    "rmse = np.sqrt(total_loss / len(dataloader))\n",
    "print(f'Root Mean Squared Error: {rmse}')"
   ],
   "metadata": {
    "id": "uBgFFkt16-IO",
    "pycharm": {
     "name": "#%%\n"
    },
    "execution": {
     "iopub.status.busy": "2024-06-26T11:35:15.244784Z",
     "iopub.execute_input": "2024-06-26T11:35:15.245212Z",
     "iopub.status.idle": "2024-06-26T11:40:00.818297Z",
     "shell.execute_reply.started": "2024-06-26T11:35:15.245181Z",
     "shell.execute_reply": "2024-06-26T11:40:00.817250Z"
    },
    "trusted": true
   },
   "execution_count": 126,
   "outputs": [
    {
     "name": "stderr",
     "text": "Epoch 1: 100%|██████████| 1954/1954 [00:49<00:00, 39.83batch/s, loss=1.32] \nEpoch 2: 100%|██████████| 1954/1954 [00:49<00:00, 39.12batch/s, loss=0.936]\nEpoch 3: 100%|██████████| 1954/1954 [00:49<00:00, 39.53batch/s, loss=0.889]\nEpoch 4: 100%|██████████| 1954/1954 [00:49<00:00, 39.16batch/s, loss=0.865]\nEpoch 5: 100%|██████████| 1954/1954 [00:49<00:00, 39.42batch/s, loss=0.848]\nEvaluating: 100%|██████████| 1954/1954 [00:37<00:00, 51.97batch/s, loss=0.802]",
     "output_type": "stream"
    },
    {
     "name": "stdout",
     "text": "Root Mean Squared Error: 0.8957290209715151\n",
     "output_type": "stream"
    },
    {
     "name": "stderr",
     "text": "\n",
     "output_type": "stream"
    }
   ]
  },
  {
   "cell_type": "code",
   "source": [
    "ratings = ratings_copy.copy()\n",
    "# Example\n",
    "\n",
    "sample_user_id = 1\n",
    "sample_user_data = ratings[ratings['user_id'] == sample_user_id]\n",
    "sample_dataset = RatingsDataset(sample_user_data)\n",
    "sample_dataloader = DataLoader(sample_dataset, batch_size=1, shuffle=False)\n",
    "\n",
    "print(f'Sample predictions for user ID {sample_user_id}:')\n",
    "with torch.no_grad():\n",
    "    for user, movie, rating in sample_dataloader:\n",
    "        output = model(user, movie).squeeze()\n",
    "        print(f'Movie ID: {movie.item()}, Predicted Rating: {output.item()}, Actual Rating: {rating.item()}')"
   ],
   "metadata": {
    "id": "CjU9mSxz0e0i",
    "pycharm": {
     "name": "#%%\n"
    },
    "execution": {
     "iopub.status.busy": "2024-06-26T11:46:56.269000Z",
     "iopub.execute_input": "2024-06-26T11:46:56.269623Z",
     "iopub.status.idle": "2024-06-26T11:46:56.314590Z",
     "shell.execute_reply.started": "2024-06-26T11:46:56.269590Z",
     "shell.execute_reply": "2024-06-26T11:46:56.313588Z"
    },
    "trusted": true
   },
   "execution_count": 128,
   "outputs": [
    {
     "name": "stdout",
     "text": "Sample predictions for user ID 1:\nMovie ID: 1193, Predicted Rating: 4.6418046951293945, Actual Rating: 5.0\nMovie ID: 661, Predicted Rating: 3.9108800888061523, Actual Rating: 3.0\nMovie ID: 914, Predicted Rating: 4.5429301261901855, Actual Rating: 3.0\nMovie ID: 3408, Predicted Rating: 4.203780651092529, Actual Rating: 4.0\nMovie ID: 2355, Predicted Rating: 4.108406066894531, Actual Rating: 5.0\nMovie ID: 1197, Predicted Rating: 4.586725234985352, Actual Rating: 3.0\nMovie ID: 1287, Predicted Rating: 4.306255340576172, Actual Rating: 5.0\nMovie ID: 2804, Predicted Rating: 4.574433326721191, Actual Rating: 5.0\nMovie ID: 594, Predicted Rating: 4.01798152923584, Actual Rating: 4.0\nMovie ID: 919, Predicted Rating: 4.663143157958984, Actual Rating: 4.0\nMovie ID: 595, Predicted Rating: 4.247617721557617, Actual Rating: 5.0\nMovie ID: 938, Predicted Rating: 4.017078399658203, Actual Rating: 4.0\nMovie ID: 2398, Predicted Rating: 4.348261833190918, Actual Rating: 4.0\nMovie ID: 2918, Predicted Rating: 4.254327774047852, Actual Rating: 4.0\nMovie ID: 1035, Predicted Rating: 4.341687202453613, Actual Rating: 5.0\nMovie ID: 2791, Predicted Rating: 4.228193283081055, Actual Rating: 4.0\nMovie ID: 2687, Predicted Rating: 3.8427531719207764, Actual Rating: 3.0\nMovie ID: 2018, Predicted Rating: 4.061755180358887, Actual Rating: 4.0\nMovie ID: 3105, Predicted Rating: 4.177714824676514, Actual Rating: 5.0\nMovie ID: 2797, Predicted Rating: 4.082052230834961, Actual Rating: 4.0\nMovie ID: 2321, Predicted Rating: 4.158829212188721, Actual Rating: 3.0\nMovie ID: 720, Predicted Rating: 4.538068771362305, Actual Rating: 3.0\nMovie ID: 1270, Predicted Rating: 4.091188907623291, Actual Rating: 5.0\nMovie ID: 527, Predicted Rating: 4.554359436035156, Actual Rating: 5.0\nMovie ID: 2340, Predicted Rating: 3.545588970184326, Actual Rating: 3.0\nMovie ID: 48, Predicted Rating: 3.4544870853424072, Actual Rating: 5.0\nMovie ID: 1097, Predicted Rating: 4.279328346252441, Actual Rating: 4.0\nMovie ID: 1721, Predicted Rating: 3.923478841781616, Actual Rating: 4.0\nMovie ID: 1545, Predicted Rating: 4.377751350402832, Actual Rating: 4.0\nMovie ID: 745, Predicted Rating: 4.809475898742676, Actual Rating: 3.0\nMovie ID: 2294, Predicted Rating: 3.72713041305542, Actual Rating: 4.0\nMovie ID: 3186, Predicted Rating: 3.931255340576172, Actual Rating: 4.0\nMovie ID: 1566, Predicted Rating: 3.6154580116271973, Actual Rating: 4.0\nMovie ID: 588, Predicted Rating: 3.950793504714966, Actual Rating: 4.0\nMovie ID: 1907, Predicted Rating: 3.9622440338134766, Actual Rating: 4.0\nMovie ID: 783, Predicted Rating: 3.616011142730713, Actual Rating: 4.0\nMovie ID: 1836, Predicted Rating: 3.7575795650482178, Actual Rating: 5.0\nMovie ID: 1022, Predicted Rating: 3.9370601177215576, Actual Rating: 5.0\nMovie ID: 2762, Predicted Rating: 4.457365036010742, Actual Rating: 4.0\nMovie ID: 150, Predicted Rating: 4.288307189941406, Actual Rating: 5.0\nMovie ID: 1, Predicted Rating: 4.460027694702148, Actual Rating: 5.0\nMovie ID: 1961, Predicted Rating: 4.36820125579834, Actual Rating: 5.0\nMovie ID: 1962, Predicted Rating: 4.147123336791992, Actual Rating: 4.0\nMovie ID: 2692, Predicted Rating: 4.3489556312561035, Actual Rating: 4.0\nMovie ID: 260, Predicted Rating: 4.6461896896362305, Actual Rating: 4.0\nMovie ID: 1028, Predicted Rating: 4.181884288787842, Actual Rating: 5.0\nMovie ID: 1029, Predicted Rating: 4.04694938659668, Actual Rating: 5.0\nMovie ID: 1207, Predicted Rating: 4.577182292938232, Actual Rating: 4.0\nMovie ID: 2028, Predicted Rating: 4.432705402374268, Actual Rating: 5.0\nMovie ID: 531, Predicted Rating: 4.044477462768555, Actual Rating: 4.0\nMovie ID: 3114, Predicted Rating: 4.4855499267578125, Actual Rating: 4.0\nMovie ID: 608, Predicted Rating: 4.587172985076904, Actual Rating: 4.0\nMovie ID: 1246, Predicted Rating: 4.239294528961182, Actual Rating: 4.0\n",
     "output_type": "stream"
    }
   ]
  },
  {
   "cell_type": "code",
   "source": [
    "ratings = ratings_copy.copy()\n",
    "movies = movies_copy.copy()\n",
    "def predict_unrated_movies(user_id, model, ratings, movies):\n",
    "    user_id_adj = user_id - 1\n",
    "    \n",
    "    all_movie_ids = movies['movie_id'].unique()\n",
    "    rated_movies = ratings[ratings['user_id'] == user_id]['movie_id'].unique()\n",
    "    unrated_movies = np.setdiff1d(all_movie_ids, rated_movies)\n",
    "    \n",
    "    user_tensor = torch.tensor([user_id_adj] * len(unrated_movies), dtype=torch.long)\n",
    "    movie_tensor = torch.tensor(unrated_movies - 1, dtype=torch.long)\n",
    "    \n",
    "    model.eval()\n",
    "    with torch.no_grad():\n",
    "        predictions = model(user_tensor, movie_tensor).numpy()\n",
    "    prediction_df = pd.DataFrame({\n",
    "        'movie_id': unrated_movies,\n",
    "        'predicted_rating': predictions\n",
    "    })\n",
    "    \n",
    "    top_predictions = prediction_df.sort_values(by='predicted_rating', ascending=False).head(10)\n",
    "    recommended_movies = top_predictions.merge(movies, on='movie_id', how='left')\n",
    "    return recommended_movies[['title', 'genres', 'predicted_rating']]\n",
    "\n",
    "# Example usage\n",
    "user_id = 1\n",
    "predictions = predict_unrated_movies(user_id, model, ratings, movies)\n",
    "predictions"
   ],
   "metadata": {
    "colab": {
     "base_uri": "https://localhost:8080/"
    },
    "id": "94kou8gVluPq",
    "outputId": "f2cd7975-dc1e-4033-b6d6-b25f7f207f1c",
    "pycharm": {
     "name": "#%%\n"
    },
    "execution": {
     "iopub.status.busy": "2024-06-26T11:57:30.373661Z",
     "iopub.execute_input": "2024-06-26T11:57:30.374327Z",
     "iopub.status.idle": "2024-06-26T11:57:30.419659Z",
     "shell.execute_reply.started": "2024-06-26T11:57:30.374290Z",
     "shell.execute_reply": "2024-06-26T11:57:30.418883Z"
    },
    "trusted": true
   },
   "execution_count": 136,
   "outputs": [
    {
     "execution_count": 136,
     "output_type": "execute_result",
     "data": {
      "text/plain": "                                       title                 genres  \\\n0        Jules and Jim (Jules et Jim) (1961)                  Drama   \n1                       Force of Evil (1948)              Film-Noir   \n2                           Blackmail (1929)               Thriller   \n3                         Repossessed (1990)                 Comedy   \n4                       Grifters, The (1990)  Crime|Drama|Film-Noir   \n5                      Guardian Angel (1994)  Action|Drama|Thriller   \n6               It Happened One Night (1934)                 Comedy   \n7  JLG/JLG - autoportrait de décembre (1994)      Documentary|Drama   \n8                  Dangerous Liaisons (1988)          Drama|Romance   \n9                    Deer Hunter, The (1978)              Drama|War   \n\n   predicted_rating  \n0          4.827886  \n1          4.787790  \n2          4.752895  \n3          4.736656  \n4          4.714832  \n5          4.698162  \n6          4.689423  \n7          4.686674  \n8          4.669196  \n9          4.660691  ",
      "text/html": "<div>\n<style scoped>\n    .dataframe tbody tr th:only-of-type {\n        vertical-align: middle;\n    }\n\n    .dataframe tbody tr th {\n        vertical-align: top;\n    }\n\n    .dataframe thead th {\n        text-align: right;\n    }\n</style>\n<table border=\"1\" class=\"dataframe\">\n  <thead>\n    <tr style=\"text-align: right;\">\n      <th></th>\n      <th>title</th>\n      <th>genres</th>\n      <th>predicted_rating</th>\n    </tr>\n  </thead>\n  <tbody>\n    <tr>\n      <th>0</th>\n      <td>Jules and Jim (Jules et Jim) (1961)</td>\n      <td>Drama</td>\n      <td>4.827886</td>\n    </tr>\n    <tr>\n      <th>1</th>\n      <td>Force of Evil (1948)</td>\n      <td>Film-Noir</td>\n      <td>4.787790</td>\n    </tr>\n    <tr>\n      <th>2</th>\n      <td>Blackmail (1929)</td>\n      <td>Thriller</td>\n      <td>4.752895</td>\n    </tr>\n    <tr>\n      <th>3</th>\n      <td>Repossessed (1990)</td>\n      <td>Comedy</td>\n      <td>4.736656</td>\n    </tr>\n    <tr>\n      <th>4</th>\n      <td>Grifters, The (1990)</td>\n      <td>Crime|Drama|Film-Noir</td>\n      <td>4.714832</td>\n    </tr>\n    <tr>\n      <th>5</th>\n      <td>Guardian Angel (1994)</td>\n      <td>Action|Drama|Thriller</td>\n      <td>4.698162</td>\n    </tr>\n    <tr>\n      <th>6</th>\n      <td>It Happened One Night (1934)</td>\n      <td>Comedy</td>\n      <td>4.689423</td>\n    </tr>\n    <tr>\n      <th>7</th>\n      <td>JLG/JLG - autoportrait de décembre (1994)</td>\n      <td>Documentary|Drama</td>\n      <td>4.686674</td>\n    </tr>\n    <tr>\n      <th>8</th>\n      <td>Dangerous Liaisons (1988)</td>\n      <td>Drama|Romance</td>\n      <td>4.669196</td>\n    </tr>\n    <tr>\n      <th>9</th>\n      <td>Deer Hunter, The (1978)</td>\n      <td>Drama|War</td>\n      <td>4.660691</td>\n    </tr>\n  </tbody>\n</table>\n</div>"
     },
     "metadata": {}
    }
   ]
  },
  {
   "cell_type": "markdown",
   "source": [
    "### GMM (Gaussian Mixture Model)"
   ],
   "metadata": {
    "id": "at9-Uddo0sB8",
    "pycharm": {
     "name": "#%% md\n"
    }
   }
  },
  {
   "cell_type": "markdown",
   "source": [
    "**Objective**: Use a Gaussian Mixture Model to analyze and cluster the click data based on the number of clicks from different locations, aiming to identify distinct patterns of user behavior across 10 countries.\n",
    "\n",
    "**Dataset**:\n",
    "- **Click Data**: DataFrame with columns `link_id`, `location`, and `number_of_clicks`.\n",
    "\n",
    "**Steps**:\n",
    "\n",
    "1. **Preprocess Data**:\n",
    "   - Ensure the dataset contains 10 distinct countries.\n",
    "   - Create a matrix where rows represent different links and columns represent the number of clicks from each country.\n",
    "   - Normalize the number of clicks to account for different scales.\n",
    "\n",
    "2. **Fit GMM**:\n",
    "   - Apply a Gaussian Mixture Model (GMM) to the click data matrix to identify clusters of links with similar click patterns across different countries.\n",
    "\n",
    "3. **Evaluate Model**:\n",
    "   - Analyze the resulting model by calculating the log lokelihood, BIC and AIC metrics.\n"
   ],
   "metadata": {
    "id": "GhT3dnRv3hAc",
    "pycharm": {
     "name": "#%% md\n"
    }
   }
  },
  {
   "cell_type": "code",
   "source": [
    "import pandas as pd\n",
    "import numpy as np\n",
    "from sklearn.mixture import GaussianMixture\n",
    "from sklearn.preprocessing import StandardScaler\n",
    "from sklearn.decomposition import PCA\n",
    "import matplotlib.pyplot as plt\n",
    "\n",
    "df = countries_df\n",
    "\n",
    "scaler = StandardScaler()\n",
    "click_data = df.iloc[:, 1:].values\n",
    "click_data_normalized = scaler.fit_transform(click_data)\n",
    "\n",
    "gmm = GaussianMixture(n_components=12, random_state=0)\n",
    "gmm.fit(click_data_normalized)\n",
    "\n",
    "log_likelihood = gmm.score(click_data_normalized)\n",
    "bic = gmm.bic(click_data_normalized)\n",
    "aic = gmm.aic(click_data_normalized)\n",
    "\n",
    "print(f\"Log-Likelihood: {log_likelihood}\")\n",
    "print(f\"BIC: {bic}\")\n",
    "print(f\"AIC: {aic}\")\n",
    "\n",
    "pca = PCA(n_components=2)\n",
    "click_data_pca = pca.fit_transform(click_data_normalized)\n",
    "cluster_labels = gmm.predict(click_data_normalized)\n",
    "\n",
    "plt.figure(figsize=(5, 3))\n",
    "for i in range(3):\n",
    "    plt.scatter(click_data_pca[cluster_labels == i, 0], click_data_pca[cluster_labels == i, 1], label=f'Cluster {i+1}', alpha=0.7, edgecolors='w')\n",
    "\n",
    "plt.title('Clusters of Click Data')\n",
    "plt.xlabel('PCA Component 1')\n",
    "plt.ylabel('PCA Component 2')\n",
    "plt.legend()\n",
    "plt.grid(True)\n",
    "plt.show()"
   ],
   "metadata": {
    "id": "Ug6I8y2lx55u",
    "pycharm": {
     "name": "#%%\n"
    },
    "execution": {
     "iopub.status.busy": "2024-06-26T12:52:20.912425Z",
     "iopub.execute_input": "2024-06-26T12:52:20.913084Z",
     "iopub.status.idle": "2024-06-26T12:52:21.380669Z",
     "shell.execute_reply.started": "2024-06-26T12:52:20.913049Z",
     "shell.execute_reply": "2024-06-26T12:52:21.379511Z"
    },
    "trusted": true
   },
   "execution_count": 157,
   "outputs": [
    {
     "name": "stdout",
     "text": "Log-Likelihood: 2.43793520656868\nBIC: 3155.102575802844\nAIC: 1094.4129586862641\n",
     "output_type": "stream"
    },
    {
     "output_type": "display_data",
     "data": {
      "text/plain": "<Figure size 500x300 with 1 Axes>",
      "image/png": "[encoded data removed]"
     },
     "metadata": {}
    }
   ]
  },
  {
   "cell_type": "code",
   "source": [],
   "metadata": {
    "pycharm": {
     "name": "#%%\n"
    }
   },
   "execution_count": null,
   "outputs": []
  },
  {
   "cell_type": "code",
   "source": [],
   "metadata": {
    "pycharm": {
     "name": "#%%\n"
    }
   },
   "execution_count": null,
   "outputs": []
  }
 ]
}