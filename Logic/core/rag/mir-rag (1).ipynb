{
 "metadata": {
  "accelerator": "GPU",
  "colab": {
   "gpuType": "T4",
   "provenance": []
  },
  "kernelspec": {
   "name": "python3",
   "display_name": "Python 3",
   "language": "python"
  },
  "language_info": {
   "name": "python",
   "version": "3.10.13",
   "mimetype": "text/x-python",
   "codemirror_mode": {
    "name": "ipython",
    "version": 3
   },
   "pygments_lexer": "ipython3",
   "nbconvert_exporter": "python",
   "file_extension": ".py"
  },
  "widgets": {
   "application/vnd.jupyter.widget-state+json": {
    "001ae07ad4654f36a51934fc1b42be32": {
     "model_module": "@jupyter-widgets/base",
     "model_module_version": "1.2.0",
     "model_name": "LayoutModel",
     "state": {
      "_model_module": "@jupyter-widgets/base",
      "_model_module_version": "1.2.0",
      "_model_name": "LayoutModel",
      "_view_count": null,
      "_view_module": "@jupyter-widgets/base",
      "_view_module_version": "1.2.0",
      "_view_name": "LayoutView",
      "align_content": null,
      "align_items": null,
      "align_self": null,
      "border": null,
      "bottom": null,
      "display": null,
      "flex": null,
      "flex_flow": null,
      "grid_area": null,
      "grid_auto_columns": null,
      "grid_auto_flow": null,
      "grid_auto_rows": null,
      "grid_column": null,
      "grid_gap": null,
      "grid_row": null,
      "grid_template_areas": null,
      "grid_template_columns": null,
      "grid_template_rows": null,
      "height": null,
      "justify_content": null,
      "justify_items": null,
      "left": null,
      "margin": null,
      "max_height": null,
      "max_width": null,
      "min_height": null,
      "min_width": null,
      "object_fit": null,
      "object_position": null,
      "order": null,
      "overflow": null,
      "overflow_x": null,
      "overflow_y": null,
      "padding": null,
      "right": null,
      "top": null,
      "visibility": null,
      "width": null
     }
    },
    "1eef87d0268b4ac7a0960f0304113994": {
     "model_module": "@jupyter-widgets/base",
     "model_module_version": "1.2.0",
     "model_name": "LayoutModel",
     "state": {
      "_model_module": "@jupyter-widgets/base",
      "_model_module_version": "1.2.0",
      "_model_name": "LayoutModel",
      "_view_count": null,
      "_view_module": "@jupyter-widgets/base",
      "_view_module_version": "1.2.0",
      "_view_name": "LayoutView",
      "align_content": null,
      "align_items": null,
      "align_self": null,
      "border": null,
      "bottom": null,
      "display": null,
      "flex": null,
      "flex_flow": null,
      "grid_area": null,
      "grid_auto_columns": null,
      "grid_auto_flow": null,
      "grid_auto_rows": null,
      "grid_column": null,
      "grid_gap": null,
      "grid_row": null,
      "grid_template_areas": null,
      "grid_template_columns": null,
      "grid_template_rows": null,
      "height": null,
      "justify_content": null,
      "justify_items": null,
      "left": null,
      "margin": null,
      "max_height": null,
      "max_width": null,
      "min_height": null,
      "min_width": null,
      "object_fit": null,
      "object_position": null,
      "order": null,
      "overflow": null,
      "overflow_x": null,
      "overflow_y": null,
      "padding": null,
      "right": null,
      "top": null,
      "visibility": null,
      "width": null
     }
    },
    "459bb3a35c574737a695b3e2d3e609a9": {
     "model_module": "@jupyter-widgets/controls",
     "model_module_version": "1.5.0",
     "model_name": "FloatProgressModel",
     "state": {
      "_dom_classes": [],
      "_model_module": "@jupyter-widgets/controls",
      "_model_module_version": "1.5.0",
      "_model_name": "FloatProgressModel",
      "_view_count": null,
      "_view_module": "@jupyter-widgets/controls",
      "_view_module_version": "1.5.0",
      "_view_name": "ProgressView",
      "bar_style": "success",
      "description": "",
      "description_tooltip": null,
      "layout": "IPY_MODEL_1eef87d0268b4ac7a0960f0304113994",
      "max": 8,
      "min": 0,
      "orientation": "horizontal",
      "style": "IPY_MODEL_c9691dc55fc84e819d1dc0bbc19afe87",
      "value": 8
     }
    },
    "5c0022b886284914be87b6228459e325": {
     "model_module": "@jupyter-widgets/controls",
     "model_module_version": "1.5.0",
     "model_name": "DescriptionStyleModel",
     "state": {
      "_model_module": "@jupyter-widgets/controls",
      "_model_module_version": "1.5.0",
      "_model_name": "DescriptionStyleModel",
      "_view_count": null,
      "_view_module": "@jupyter-widgets/base",
      "_view_module_version": "1.2.0",
      "_view_name": "StyleView",
      "description_width": ""
     }
    },
    "7126cd7d519441278252013816472b58": {
     "model_module": "@jupyter-widgets/controls",
     "model_module_version": "1.5.0",
     "model_name": "HBoxModel",
     "state": {
      "_dom_classes": [],
      "_model_module": "@jupyter-widgets/controls",
      "_model_module_version": "1.5.0",
      "_model_name": "HBoxModel",
      "_view_count": null,
      "_view_module": "@jupyter-widgets/controls",
      "_view_module_version": "1.5.0",
      "_view_name": "HBoxView",
      "box_style": "",
      "children": [
       "IPY_MODEL_9f28a42abc804a5e97edd39d19fac347",
       "IPY_MODEL_459bb3a35c574737a695b3e2d3e609a9",
       "IPY_MODEL_95d80492b2be4005a7752a84c7a84bef"
      ],
      "layout": "IPY_MODEL_001ae07ad4654f36a51934fc1b42be32"
     }
    },
    "95d80492b2be4005a7752a84c7a84bef": {
     "model_module": "@jupyter-widgets/controls",
     "model_module_version": "1.5.0",
     "model_name": "HTMLModel",
     "state": {
      "_dom_classes": [],
      "_model_module": "@jupyter-widgets/controls",
      "_model_module_version": "1.5.0",
      "_model_name": "HTMLModel",
      "_view_count": null,
      "_view_module": "@jupyter-widgets/controls",
      "_view_module_version": "1.5.0",
      "_view_name": "HTMLView",
      "description": "",
      "description_tooltip": null,
      "layout": "IPY_MODEL_ef05a78cdd174ee987b53c114310fde3",
      "placeholder": "​",
      "style": "IPY_MODEL_5c0022b886284914be87b6228459e325",
      "value": " 8/8 [01:28&lt;00:00, 10.13s/it]"
     }
    },
    "9f28a42abc804a5e97edd39d19fac347": {
     "model_module": "@jupyter-widgets/controls",
     "model_module_version": "1.5.0",
     "model_name": "HTMLModel",
     "state": {
      "_dom_classes": [],
      "_model_module": "@jupyter-widgets/controls",
      "_model_module_version": "1.5.0",
      "_model_name": "HTMLModel",
      "_view_count": null,
      "_view_module": "@jupyter-widgets/controls",
      "_view_module_version": "1.5.0",
      "_view_name": "HTMLView",
      "description": "",
      "description_tooltip": null,
      "layout": "IPY_MODEL_c7bdaba6b09e401c80c3c8a292648682",
      "placeholder": "​",
      "style": "IPY_MODEL_da3b93f3ee5940e89c1bbc7044c10520",
      "value": "Loading checkpoint shards: 100%"
     }
    },
    "c7bdaba6b09e401c80c3c8a292648682": {
     "model_module": "@jupyter-widgets/base",
     "model_module_version": "1.2.0",
     "model_name": "LayoutModel",
     "state": {
      "_model_module": "@jupyter-widgets/base",
      "_model_module_version": "1.2.0",
      "_model_name": "LayoutModel",
      "_view_count": null,
      "_view_module": "@jupyter-widgets/base",
      "_view_module_version": "1.2.0",
      "_view_name": "LayoutView",
      "align_content": null,
      "align_items": null,
      "align_self": null,
      "border": null,
      "bottom": null,
      "display": null,
      "flex": null,
      "flex_flow": null,
      "grid_area": null,
      "grid_auto_columns": null,
      "grid_auto_flow": null,
      "grid_auto_rows": null,
      "grid_column": null,
      "grid_gap": null,
      "grid_row": null,
      "grid_template_areas": null,
      "grid_template_columns": null,
      "grid_template_rows": null,
      "height": null,
      "justify_content": null,
      "justify_items": null,
      "left": null,
      "margin": null,
      "max_height": null,
      "max_width": null,
      "min_height": null,
      "min_width": null,
      "object_fit": null,
      "object_position": null,
      "order": null,
      "overflow": null,
      "overflow_x": null,
      "overflow_y": null,
      "padding": null,
      "right": null,
      "top": null,
      "visibility": null,
      "width": null
     }
    },
    "c9691dc55fc84e819d1dc0bbc19afe87": {
     "model_module": "@jupyter-widgets/controls",
     "model_module_version": "1.5.0",
     "model_name": "ProgressStyleModel",
     "state": {
      "_model_module": "@jupyter-widgets/controls",
      "_model_module_version": "1.5.0",
      "_model_name": "ProgressStyleModel",
      "_view_count": null,
      "_view_module": "@jupyter-widgets/base",
      "_view_module_version": "1.2.0",
      "_view_name": "StyleView",
      "bar_color": null,
      "description_width": ""
     }
    },
    "da3b93f3ee5940e89c1bbc7044c10520": {
     "model_module": "@jupyter-widgets/controls",
     "model_module_version": "1.5.0",
     "model_name": "DescriptionStyleModel",
     "state": {
      "_model_module": "@jupyter-widgets/controls",
      "_model_module_version": "1.5.0",
      "_model_name": "DescriptionStyleModel",
      "_view_count": null,
      "_view_module": "@jupyter-widgets/base",
      "_view_module_version": "1.2.0",
      "_view_name": "StyleView",
      "description_width": ""
     }
    },
    "ef05a78cdd174ee987b53c114310fde3": {
     "model_module": "@jupyter-widgets/base",
     "model_module_version": "1.2.0",
     "model_name": "LayoutModel",
     "state": {
      "_model_module": "@jupyter-widgets/base",
      "_model_module_version": "1.2.0",
      "_model_name": "LayoutModel",
      "_view_count": null,
      "_view_module": "@jupyter-widgets/base",
      "_view_module_version": "1.2.0",
      "_view_name": "LayoutView",
      "align_content": null,
      "align_items": null,
      "align_self": null,
      "border": null,
      "bottom": null,
      "display": null,
      "flex": null,
      "flex_flow": null,
      "grid_area": null,
      "grid_auto_columns": null,
      "grid_auto_flow": null,
      "grid_auto_rows": null,
      "grid_column": null,
      "grid_gap": null,
      "grid_row": null,
      "grid_template_areas": null,
      "grid_template_columns": null,
      "grid_template_rows": null,
      "height": null,
      "justify_content": null,
      "justify_items": null,
      "left": null,
      "margin": null,
      "max_height": null,
      "max_width": null,
      "min_height": null,
      "min_width": null,
      "object_fit": null,
      "object_position": null,
      "order": null,
      "overflow": null,
      "overflow_x": null,
      "overflow_y": null,
      "padding": null,
      "right": null,
      "top": null,
      "visibility": null,
      "width": null
     }
    }
   }
  },
  "kaggle": {
   "accelerator": "nvidiaTeslaT4",
   "dataSources": [],
   "dockerImageVersionId": 30733,
   "isInternetEnabled": true,
   "language": "python",
   "sourceType": "notebook",
   "isGpuEnabled": true
  }
 },
 "nbformat_minor": 4,
 "nbformat": 4,
 "cells": [
  {
   "cell_type": "markdown",
   "source": [
    "# RAG"
   ],
   "metadata": {
    "pycharm": {
     "name": "#%% md\n"
    }
   }
  },
  {
   "cell_type": "markdown",
   "source": [
    "## Requirements"
   ],
   "metadata": {
    "pycharm": {
     "name": "#%% md\n"
    }
   }
  },
  {
   "cell_type": "code",
   "source": [
    "%%capture\n",
    "!pip install transformers accelerate bitsandbytes langchain langchain-community sentence-transformers faiss-gpu pandas gdown\n",
    "!pip install accelerate"
   ],
   "metadata": {
    "id": "D7qkZVjtPtCt",
    "pycharm": {
     "name": "#%%\n"
    },
    "execution": {
     "iopub.status.busy": "2024-06-26T09:38:35.339263Z",
     "iopub.execute_input": "2024-06-26T09:38:35.340184Z",
     "iopub.status.idle": "2024-06-26T09:39:19.076750Z",
     "shell.execute_reply.started": "2024-06-26T09:38:35.340135Z",
     "shell.execute_reply": "2024-06-26T09:39:19.075383Z"
    },
    "trusted": true
   },
   "execution_count": 1,
   "outputs": []
  },
  {
   "cell_type": "markdown",
   "source": [
    "## Dataset"
   ],
   "metadata": {
    "pycharm": {
     "name": "#%% md\n"
    }
   }
  },
  {
   "cell_type": "code",
   "source": [
    "!gdown --fuzzy https://drive.google.com/file/d/1Lq2zVJlN_B4kUAu4VafQ4jXMIQiAR9vI/view?usp=sharing"
   ],
   "metadata": {
    "colab": {
     "base_uri": "https://localhost:8080/"
    },
    "id": "KU3LtV3zPtCu",
    "outputId": "b3a2df01-12a9-4afc-d353-deac5300376b",
    "pycharm": {
     "name": "#%%\n"
    },
    "execution": {
     "iopub.status.busy": "2024-06-26T09:39:19.078965Z",
     "iopub.execute_input": "2024-06-26T09:39:19.079312Z",
     "iopub.status.idle": "2024-06-26T09:39:22.581645Z",
     "shell.execute_reply.started": "2024-06-26T09:39:19.079281Z",
     "shell.execute_reply": "2024-06-26T09:39:22.580435Z"
    },
    "trusted": true
   },
   "execution_count": 2,
   "outputs": [
    {
     "name": "stdout",
     "text": "Downloading...\nFrom (original): https://drive.google.com/uc?id=1Lq2zVJlN_B4kUAu4VafQ4jXMIQiAR9vI\nFrom (redirected): https://drive.google.com/uc?id=1Lq2zVJlN_B4kUAu4VafQ4jXMIQiAR9vI&confirm=t&uuid=35753983-ba30-4acc-985a-6a283477bcb1\nTo: /kaggle/working/IMDB_crawled.json\n100%|█████████████████████████████████████████| 292M/292M [00:01<00:00, 171MB/s]\n",
     "output_type": "stream"
    }
   ]
  },
  {
   "cell_type": "markdown",
   "source": [
    "## Config"
   ],
   "metadata": {
    "pycharm": {
     "name": "#%% md\n"
    }
   }
  },
  {
   "cell_type": "code",
   "source": [
    "class Config:\n",
    "    EMBEDDING_MODEL_NAME=\"thenlper/gte-base\"\n",
    "    LLM_MODEL_NAME=\"HuggingFaceH4/zephyr-7b-beta\"\n",
    "    K = 5 # top K retrieval"
   ],
   "metadata": {
    "id": "MUqmeYExPtCv",
    "pycharm": {
     "name": "#%%\n"
    },
    "execution": {
     "iopub.status.busy": "2024-06-26T09:39:22.583347Z",
     "iopub.execute_input": "2024-06-26T09:39:22.583675Z",
     "iopub.status.idle": "2024-06-26T09:39:22.588933Z",
     "shell.execute_reply.started": "2024-06-26T09:39:22.583644Z",
     "shell.execute_reply": "2024-06-26T09:39:22.587925Z"
    },
    "trusted": true
   },
   "execution_count": 3,
   "outputs": []
  },
  {
   "cell_type": "markdown",
   "source": [
    "## Preprocessing"
   ],
   "metadata": {
    "pycharm": {
     "name": "#%% md\n"
    }
   }
  },
  {
   "cell_type": "code",
   "source": [
    "import pandas as pd\n",
    "\n",
    "df = pd.read_json('IMDB_crawled.json')"
   ],
   "metadata": {
    "id": "sjdAj0mnPtCv",
    "pycharm": {
     "name": "#%%\n"
    },
    "execution": {
     "iopub.status.busy": "2024-06-26T09:39:22.592156Z",
     "iopub.execute_input": "2024-06-26T09:39:22.592469Z",
     "iopub.status.idle": "2024-06-26T09:39:25.720706Z",
     "shell.execute_reply.started": "2024-06-26T09:39:22.592418Z",
     "shell.execute_reply": "2024-06-26T09:39:25.719508Z"
    },
    "trusted": true
   },
   "execution_count": 4,
   "outputs": []
  },
  {
   "cell_type": "code",
   "source": [
    "df.head()"
   ],
   "metadata": {
    "execution": {
     "iopub.status.busy": "2024-06-26T09:39:25.721949Z",
     "iopub.execute_input": "2024-06-26T09:39:25.722281Z",
     "iopub.status.idle": "2024-06-26T09:39:25.813672Z",
     "shell.execute_reply.started": "2024-06-26T09:39:25.722252Z",
     "shell.execute_reply": "2024-06-26T09:39:25.812708Z"
    },
    "trusted": true,
    "pycharm": {
     "name": "#%%\n"
    }
   },
   "execution_count": 5,
   "outputs": [
    {
     "execution_count": 5,
     "output_type": "execute_result",
     "data": {
      "text/plain": "          id                                              title  \\\n0  tt0071562                              The Godfather Part II   \n1  tt0120737  The Lord of the Rings: The Fellowship of the Ring   \n2  tt0110912                                       Pulp Fiction   \n3  tt0068646                                      The Godfather   \n4  tt0111161                           The Shawshank Redemption   \n\n                                  first_page_summary release_year   mpaa  \\\n0  The early life and career of Vito Corleone in ...         1974      R   \n1  A meek Hobbit from the Shire and eight compani...         2001  PG-13   \n2  The lives of two mob hitmen, a boxer, a gangst...         1994      R   \n3  The aging patriarch of an organized crime dyna...         1972      R   \n4  Over the course of several years, two convicts...         1994      R   \n\n                    budget gross_worldwide  rating               directors  \\\n0  $13,000,000 (estimated)     $47,962,683     9.0  [Francis Ford Coppola]   \n1  $93,000,000 (estimated)    $884,041,698     8.9         [Peter Jackson]   \n2   $8,000,000 (estimated)    $213,928,762     8.9     [Quentin Tarantino]   \n3   $6,000,000 (estimated)    $250,342,030     9.2  [Francis Ford Coppola]   \n4  $25,000,000 (estimated)     $28,904,232     9.3        [Frank Darabont]   \n\n                          writers  \\\n0                            None   \n1                            None   \n2                            None   \n3                            None   \n4  [Stephen King, Frank Darabont]   \n\n                                             stars  \\\n0       [Al Pacino, Robert De Niro, Robert Duvall]   \n1       [Elijah Wood, Ian McKellen, Orlando Bloom]   \n2  [John Travolta, Uma Thurman, Samuel L. Jackson]   \n3           [Marlon Brando, Al Pacino, James Caan]   \n4        [Tim Robbins, Morgan Freeman, Bob Gunton]   \n\n                                       related_links  \\\n0  [https://imdb.com/title/tt0068646/?ref_=tt_sim...   \n1  [https://imdb.com/title/tt0167261/?ref_=tt_sim...   \n2  [https://imdb.com/title/tt0137523/?ref_=tt_sim...   \n3  [https://imdb.com/title/tt0071562/?ref_=tt_sim...   \n4  [https://imdb.com/title/tt0468569/?ref_=tt_sim...   \n\n                                      languages           countries_of_origin  \\\n0  [English, Italian, Spanish, Latin, Sicilian]               [United States]   \n1                           [English, Sindarin]  [New Zealand, United States]   \n2                    [English, Spanish, French]               [United States]   \n3                     [English, Italian, Latin]               [United States]   \n4                                     [English]               [United States]   \n\n                                           summaries  \\\n0  [The early life and career of Vito Corleone in...   \n1  [A meek Hobbit from the Shire and eight compan...   \n2  [The lives of two mob hitmen, a boxer, a gangs...   \n3  [The aging patriarch of an organized crime dyn...   \n4  [Over the course of several years, two convict...   \n\n                                            synposis  \\\n0  [The Godfather Part II presents two parallel s...   \n1  [Galadriel (Cate Blanchett) (The Elven co-rule...   \n2  [Narrative structure\\nPulp Fiction's narrative...   \n3  [In late summer 1945, guests are gathered for ...   \n4  [In 1947, Andy Dufresne (Tim Robbins), a banke...   \n\n                                             reviews  \\\n0  [[Coppola's masterpiece is rivaled only by \"Th...   \n1  [[Here is one film that lived up to its hype, ...   \n2  [[I like the bit with the cheeseburger. It mak...   \n3  [['The Godfather' is the pinnacle of flawless ...   \n4  [[The Shawshank Redemption is written and dire...   \n\n                       genres  \n0              [Crime, Drama]  \n1  [Action, Adventure, Drama]  \n2              [Crime, Drama]  \n3              [Crime, Drama]  \n4                     [Drama]  ",
      "text/html": "<div>\n<style scoped>\n    .dataframe tbody tr th:only-of-type {\n        vertical-align: middle;\n    }\n\n    .dataframe tbody tr th {\n        vertical-align: top;\n    }\n\n    .dataframe thead th {\n        text-align: right;\n    }\n</style>\n<table border=\"1\" class=\"dataframe\">\n  <thead>\n    <tr style=\"text-align: right;\">\n      <th></th>\n      <th>id</th>\n      <th>title</th>\n      <th>first_page_summary</th>\n      <th>release_year</th>\n      <th>mpaa</th>\n      <th>budget</th>\n      <th>gross_worldwide</th>\n      <th>rating</th>\n      <th>directors</th>\n      <th>writers</th>\n      <th>stars</th>\n      <th>related_links</th>\n      <th>languages</th>\n      <th>countries_of_origin</th>\n      <th>summaries</th>\n      <th>synposis</th>\n      <th>reviews</th>\n      <th>genres</th>\n    </tr>\n  </thead>\n  <tbody>\n    <tr>\n      <th>0</th>\n      <td>tt0071562</td>\n      <td>The Godfather Part II</td>\n      <td>The early life and career of Vito Corleone in ...</td>\n      <td>1974</td>\n      <td>R</td>\n      <td>$13,000,000 (estimated)</td>\n      <td>$47,962,683</td>\n      <td>9.0</td>\n      <td>[Francis Ford Coppola]</td>\n      <td>None</td>\n      <td>[Al Pacino, Robert De Niro, Robert Duvall]</td>\n      <td>[https://imdb.com/title/tt0068646/?ref_=tt_sim...</td>\n      <td>[English, Italian, Spanish, Latin, Sicilian]</td>\n      <td>[United States]</td>\n      <td>[The early life and career of Vito Corleone in...</td>\n      <td>[The Godfather Part II presents two parallel s...</td>\n      <td>[[Coppola's masterpiece is rivaled only by \"Th...</td>\n      <td>[Crime, Drama]</td>\n    </tr>\n    <tr>\n      <th>1</th>\n      <td>tt0120737</td>\n      <td>The Lord of the Rings: The Fellowship of the Ring</td>\n      <td>A meek Hobbit from the Shire and eight compani...</td>\n      <td>2001</td>\n      <td>PG-13</td>\n      <td>$93,000,000 (estimated)</td>\n      <td>$884,041,698</td>\n      <td>8.9</td>\n      <td>[Peter Jackson]</td>\n      <td>None</td>\n      <td>[Elijah Wood, Ian McKellen, Orlando Bloom]</td>\n      <td>[https://imdb.com/title/tt0167261/?ref_=tt_sim...</td>\n      <td>[English, Sindarin]</td>\n      <td>[New Zealand, United States]</td>\n      <td>[A meek Hobbit from the Shire and eight compan...</td>\n      <td>[Galadriel (Cate Blanchett) (The Elven co-rule...</td>\n      <td>[[Here is one film that lived up to its hype, ...</td>\n      <td>[Action, Adventure, Drama]</td>\n    </tr>\n    <tr>\n      <th>2</th>\n      <td>tt0110912</td>\n      <td>Pulp Fiction</td>\n      <td>The lives of two mob hitmen, a boxer, a gangst...</td>\n      <td>1994</td>\n      <td>R</td>\n      <td>$8,000,000 (estimated)</td>\n      <td>$213,928,762</td>\n      <td>8.9</td>\n      <td>[Quentin Tarantino]</td>\n      <td>None</td>\n      <td>[John Travolta, Uma Thurman, Samuel L. Jackson]</td>\n      <td>[https://imdb.com/title/tt0137523/?ref_=tt_sim...</td>\n      <td>[English, Spanish, French]</td>\n      <td>[United States]</td>\n      <td>[The lives of two mob hitmen, a boxer, a gangs...</td>\n      <td>[Narrative structure\\nPulp Fiction's narrative...</td>\n      <td>[[I like the bit with the cheeseburger. It mak...</td>\n      <td>[Crime, Drama]</td>\n    </tr>\n    <tr>\n      <th>3</th>\n      <td>tt0068646</td>\n      <td>The Godfather</td>\n      <td>The aging patriarch of an organized crime dyna...</td>\n      <td>1972</td>\n      <td>R</td>\n      <td>$6,000,000 (estimated)</td>\n      <td>$250,342,030</td>\n      <td>9.2</td>\n      <td>[Francis Ford Coppola]</td>\n      <td>None</td>\n      <td>[Marlon Brando, Al Pacino, James Caan]</td>\n      <td>[https://imdb.com/title/tt0071562/?ref_=tt_sim...</td>\n      <td>[English, Italian, Latin]</td>\n      <td>[United States]</td>\n      <td>[The aging patriarch of an organized crime dyn...</td>\n      <td>[In late summer 1945, guests are gathered for ...</td>\n      <td>[['The Godfather' is the pinnacle of flawless ...</td>\n      <td>[Crime, Drama]</td>\n    </tr>\n    <tr>\n      <th>4</th>\n      <td>tt0111161</td>\n      <td>The Shawshank Redemption</td>\n      <td>Over the course of several years, two convicts...</td>\n      <td>1994</td>\n      <td>R</td>\n      <td>$25,000,000 (estimated)</td>\n      <td>$28,904,232</td>\n      <td>9.3</td>\n      <td>[Frank Darabont]</td>\n      <td>[Stephen King, Frank Darabont]</td>\n      <td>[Tim Robbins, Morgan Freeman, Bob Gunton]</td>\n      <td>[https://imdb.com/title/tt0468569/?ref_=tt_sim...</td>\n      <td>[English]</td>\n      <td>[United States]</td>\n      <td>[Over the course of several years, two convict...</td>\n      <td>[In 1947, Andy Dufresne (Tim Robbins), a banke...</td>\n      <td>[[The Shawshank Redemption is written and dire...</td>\n      <td>[Drama]</td>\n    </tr>\n  </tbody>\n</table>\n</div>"
     },
     "metadata": {}
    }
   ]
  },
  {
   "cell_type": "code",
   "source": [
    "import os\n",
    "\n",
    "os.makedirs('data', exist_ok=True)\n",
    "\n",
    "# preprocess your data and only store the needed data as the context window for embedding model is limited\n",
    "df = df[['first_page_summary', 'title', 'genres', 'rating']]\n",
    "df.to_csv('data/imdb.csv', index=False)"
   ],
   "metadata": {
    "id": "jYJlIaTWPtCw",
    "pycharm": {
     "name": "#%%\n"
    },
    "execution": {
     "iopub.status.busy": "2024-06-26T09:39:25.815098Z",
     "iopub.execute_input": "2024-06-26T09:39:25.815411Z",
     "iopub.status.idle": "2024-06-26T09:39:25.945477Z",
     "shell.execute_reply.started": "2024-06-26T09:39:25.815383Z",
     "shell.execute_reply": "2024-06-26T09:39:25.944135Z"
    },
    "trusted": true
   },
   "execution_count": 6,
   "outputs": []
  },
  {
   "cell_type": "markdown",
   "source": [
    "## Vectorizer"
   ],
   "metadata": {
    "pycharm": {
     "name": "#%% md\n"
    }
   }
  },
  {
   "cell_type": "markdown",
   "source": [
    "load the CSV file and vectorize the rows using HuggingFaceEmbeddings.\n",
    "Store the results using FAISS vectorstore.\n",
    "Save the vectorestore in a pickle file for future usages."
   ],
   "metadata": {
    "pycharm": {
     "name": "#%% md\n"
    }
   }
  },
  {
   "cell_type": "code",
   "source": [
    "import pickle\n",
    "\n",
    "from langchain.document_loaders.csv_loader import CSVLoader\n",
    "from langchain.vectorstores.utils import DistanceStrategy\n",
    "from langchain.vectorstores.faiss import FAISS\n",
    "\n",
    "from langchain_community.embeddings import HuggingFaceEmbeddings\n",
    "\n",
    "# load the csv\n",
    "csv_loader = CSVLoader('/kaggle/working/data/imdb.csv', encoding='utf-8')\n",
    "documents = csv_loader.load()\n",
    "\n",
    "# load the embeddings model\n",
    "embedding_model = HuggingFaceEmbeddings()\n",
    "\n",
    "# save embed the documents using the model in a vectorstore\n",
    "vectorstore = FAISS.from_documents(documents, embedding_model, distance_strategy=DistanceStrategy.COSINE)\n",
    "\n",
    "with open(\"data/vectorstore.pkl\", \"wb\") as f:\n",
    "    pickle.dump(vectorstore, f)"
   ],
   "metadata": {
    "colab": {
     "base_uri": "https://localhost:8080/"
    },
    "id": "-WafXxVaPtCw",
    "outputId": "6645aae7-6325-48f1-a631-e6349362cf7f",
    "pycharm": {
     "name": "#%%\n"
    },
    "execution": {
     "iopub.status.busy": "2024-06-26T09:39:25.946920Z",
     "iopub.execute_input": "2024-06-26T09:39:25.947301Z",
     "iopub.status.idle": "2024-06-26T09:40:36.165762Z",
     "shell.execute_reply.started": "2024-06-26T09:39:25.947271Z",
     "shell.execute_reply": "2024-06-26T09:40:36.164838Z"
    },
    "trusted": true
   },
   "execution_count": 7,
   "outputs": [
    {
     "name": "stderr",
     "text": "/opt/conda/lib/python3.10/site-packages/langchain_core/_api/deprecation.py:139: LangChainDeprecationWarning: The class `HuggingFaceEmbeddings` was deprecated in LangChain 0.2.2 and will be removed in 0.3.0. An updated version of the class exists in the langchain-huggingface package and should be used instead. To use it run `pip install -U langchain-huggingface` and import as `from langchain_huggingface import HuggingFaceEmbeddings`.\n  warn_deprecated(\n/opt/conda/lib/python3.10/site-packages/sentence_transformers/cross_encoder/CrossEncoder.py:11: TqdmExperimentalWarning: Using `tqdm.autonotebook.tqdm` in notebook mode. Use `tqdm.tqdm` instead to force console mode (e.g. in jupyter console)\n  from tqdm.autonotebook import tqdm, trange\n2024-06-26 09:39:39.243947: E external/local_xla/xla/stream_executor/cuda/cuda_dnn.cc:9261] Unable to register cuDNN factory: Attempting to register factory for plugin cuDNN when one has already been registered\n2024-06-26 09:39:39.244080: E external/local_xla/xla/stream_executor/cuda/cuda_fft.cc:607] Unable to register cuFFT factory: Attempting to register factory for plugin cuFFT when one has already been registered\n2024-06-26 09:39:39.435303: E external/local_xla/xla/stream_executor/cuda/cuda_blas.cc:1515] Unable to register cuBLAS factory: Attempting to register factory for plugin cuBLAS when one has already been registered\n",
     "output_type": "stream"
    },
    {
     "output_type": "display_data",
     "data": {
      "text/plain": "modules.json:   0%|          | 0.00/349 [00:00<?, ?B/s]",
      "application/vnd.jupyter.widget-view+json": {
       "version_major": 2,
       "version_minor": 0,
       "model_id": "990150067d9049aba302e8f15dba30c4"
      }
     },
     "metadata": {}
    },
    {
     "output_type": "display_data",
     "data": {
      "text/plain": "config_sentence_transformers.json:   0%|          | 0.00/116 [00:00<?, ?B/s]",
      "application/vnd.jupyter.widget-view+json": {
       "version_major": 2,
       "version_minor": 0,
       "model_id": "cae25bbf79d74dbe985f043f8723ff62"
      }
     },
     "metadata": {}
    },
    {
     "output_type": "display_data",
     "data": {
      "text/plain": "README.md:   0%|          | 0.00/10.6k [00:00<?, ?B/s]",
      "application/vnd.jupyter.widget-view+json": {
       "version_major": 2,
       "version_minor": 0,
       "model_id": "ade659d23f5b48fb9414ea6c821cb8b3"
      }
     },
     "metadata": {}
    },
    {
     "output_type": "display_data",
     "data": {
      "text/plain": "sentence_bert_config.json:   0%|          | 0.00/53.0 [00:00<?, ?B/s]",
      "application/vnd.jupyter.widget-view+json": {
       "version_major": 2,
       "version_minor": 0,
       "model_id": "80b894a3dcd14335ab067169f5b4be81"
      }
     },
     "metadata": {}
    },
    {
     "name": "stderr",
     "text": "/opt/conda/lib/python3.10/site-packages/huggingface_hub/file_download.py:1132: FutureWarning: `resume_download` is deprecated and will be removed in version 1.0.0. Downloads always resume when possible. If you want to force a new download, use `force_download=True`.\n  warnings.warn(\n",
     "output_type": "stream"
    },
    {
     "output_type": "display_data",
     "data": {
      "text/plain": "config.json:   0%|          | 0.00/571 [00:00<?, ?B/s]",
      "application/vnd.jupyter.widget-view+json": {
       "version_major": 2,
       "version_minor": 0,
       "model_id": "9a8b978b81904efaa4c56c0f6abc0ac1"
      }
     },
     "metadata": {}
    },
    {
     "output_type": "display_data",
     "data": {
      "text/plain": "model.safetensors:   0%|          | 0.00/438M [00:00<?, ?B/s]",
      "application/vnd.jupyter.widget-view+json": {
       "version_major": 2,
       "version_minor": 0,
       "model_id": "7446522516604fc88cc4a43d41cc0f85"
      }
     },
     "metadata": {}
    },
    {
     "output_type": "display_data",
     "data": {
      "text/plain": "tokenizer_config.json:   0%|          | 0.00/363 [00:00<?, ?B/s]",
      "application/vnd.jupyter.widget-view+json": {
       "version_major": 2,
       "version_minor": 0,
       "model_id": "6321825a54d2457fa4bc2e5180afccec"
      }
     },
     "metadata": {}
    },
    {
     "output_type": "display_data",
     "data": {
      "text/plain": "vocab.txt:   0%|          | 0.00/232k [00:00<?, ?B/s]",
      "application/vnd.jupyter.widget-view+json": {
       "version_major": 2,
       "version_minor": 0,
       "model_id": "7f0e6d10aa6c4763b80f821256da8526"
      }
     },
     "metadata": {}
    },
    {
     "output_type": "display_data",
     "data": {
      "text/plain": "tokenizer.json:   0%|          | 0.00/466k [00:00<?, ?B/s]",
      "application/vnd.jupyter.widget-view+json": {
       "version_major": 2,
       "version_minor": 0,
       "model_id": "248fc3d7b17b4d79bdf9e80dd7184b6a"
      }
     },
     "metadata": {}
    },
    {
     "output_type": "display_data",
     "data": {
      "text/plain": "special_tokens_map.json:   0%|          | 0.00/239 [00:00<?, ?B/s]",
      "application/vnd.jupyter.widget-view+json": {
       "version_major": 2,
       "version_minor": 0,
       "model_id": "1dd219b873b54d988f764b177d147cc3"
      }
     },
     "metadata": {}
    },
    {
     "output_type": "display_data",
     "data": {
      "text/plain": "1_Pooling/config.json:   0%|          | 0.00/190 [00:00<?, ?B/s]",
      "application/vnd.jupyter.widget-view+json": {
       "version_major": 2,
       "version_minor": 0,
       "model_id": "abfa31fcef67468cb47418d8cdf12545"
      }
     },
     "metadata": {}
    }
   ]
  },
  {
   "cell_type": "markdown",
   "source": [
    "load the vectorstore as a retriever."
   ],
   "metadata": {
    "pycharm": {
     "name": "#%% md\n"
    }
   }
  },
  {
   "cell_type": "code",
   "source": [
    "with open(\"data/vectorstore.pkl\", \"rb\") as f:\n",
    "    vectorstore = pickle.load(f)\n",
    "\n",
    "# load the retriever from the vectorstore\n",
    "retriever = vectorstore.as_retriever()"
   ],
   "metadata": {
    "id": "sN1YgCMGPtCw",
    "pycharm": {
     "name": "#%%\n"
    },
    "execution": {
     "iopub.status.busy": "2024-06-26T09:40:36.167066Z",
     "iopub.execute_input": "2024-06-26T09:40:36.167668Z",
     "iopub.status.idle": "2024-06-26T09:40:36.703901Z",
     "shell.execute_reply.started": "2024-06-26T09:40:36.167637Z",
     "shell.execute_reply": "2024-06-26T09:40:36.703053Z"
    },
    "trusted": true
   },
   "execution_count": 8,
   "outputs": []
  },
  {
   "cell_type": "markdown",
   "source": [
    "## LLM"
   ],
   "metadata": {
    "pycharm": {
     "name": "#%% md\n"
    }
   }
  },
  {
   "cell_type": "markdown",
   "source": [
    "load the quantized LLM."
   ],
   "metadata": {
    "pycharm": {
     "name": "#%% md\n"
    }
   }
  },
  {
   "cell_type": "code",
   "source": [
    "import torch\n",
    "\n",
    "from transformers import AutoTokenizer, AutoModelForCausalLM, BitsAndBytesConfig\n",
    "from transformers import pipeline\n",
    "\n",
    "from langchain_community.llms.huggingface_pipeline import HuggingFacePipeline\n",
    "\n",
    "# load the quantization config\n",
    "bnb_config = BitsAndBytesConfig()\n",
    "\n",
    "model = AutoModelForCausalLM.from_pretrained(Config.LLM_MODEL_NAME, quantization_config=bnb_config, device_map=\"cuda:0\")\n",
    "tokenizer = AutoTokenizer.from_pretrained(Config.LLM_MODEL_NAME)\n",
    "\n",
    "# init the pipeline\n",
    "READER_LLM = pipeline(\"text-generation\", model=model, tokenizer=tokenizer, max_new_tokens=500)\n",
    "\n",
    "llm = HuggingFacePipeline(\n",
    "    pipeline=READER_LLM,\n",
    ")"
   ],
   "metadata": {
    "colab": {
     "base_uri": "https://localhost:8080/",
     "height": 104,
     "referenced_widgets": [
      "7126cd7d519441278252013816472b58",
      "9f28a42abc804a5e97edd39d19fac347",
      "459bb3a35c574737a695b3e2d3e609a9",
      "95d80492b2be4005a7752a84c7a84bef",
      "001ae07ad4654f36a51934fc1b42be32",
      "c7bdaba6b09e401c80c3c8a292648682",
      "da3b93f3ee5940e89c1bbc7044c10520",
      "1eef87d0268b4ac7a0960f0304113994",
      "c9691dc55fc84e819d1dc0bbc19afe87",
      "ef05a78cdd174ee987b53c114310fde3",
      "5c0022b886284914be87b6228459e325"
     ]
    },
    "id": "JM1GYo6HR2MB",
    "outputId": "729df36c-bc0f-4167-e743-d582b35fd388",
    "pycharm": {
     "name": "#%%\n"
    },
    "execution": {
     "iopub.status.busy": "2024-06-26T09:40:36.705744Z",
     "iopub.execute_input": "2024-06-26T09:40:36.706683Z",
     "iopub.status.idle": "2024-06-26T09:42:42.241403Z",
     "shell.execute_reply.started": "2024-06-26T09:40:36.706640Z",
     "shell.execute_reply": "2024-06-26T09:42:42.240222Z"
    },
    "trusted": true
   },
   "execution_count": 9,
   "outputs": [
    {
     "output_type": "display_data",
     "data": {
      "text/plain": "config.json:   0%|          | 0.00/638 [00:00<?, ?B/s]",
      "application/vnd.jupyter.widget-view+json": {
       "version_major": 2,
       "version_minor": 0,
       "model_id": "1de3d1abcede4abe800ce37abb28079d"
      }
     },
     "metadata": {}
    },
    {
     "output_type": "display_data",
     "data": {
      "text/plain": "model.safetensors.index.json:   0%|          | 0.00/23.9k [00:00<?, ?B/s]",
      "application/vnd.jupyter.widget-view+json": {
       "version_major": 2,
       "version_minor": 0,
       "model_id": "431e1c2e7a6346e09d679badfd035a82"
      }
     },
     "metadata": {}
    },
    {
     "output_type": "display_data",
     "data": {
      "text/plain": "Downloading shards:   0%|          | 0/8 [00:00<?, ?it/s]",
      "application/vnd.jupyter.widget-view+json": {
       "version_major": 2,
       "version_minor": 0,
       "model_id": "0015abfa9b3d43a6b9f4b5f023766f1e"
      }
     },
     "metadata": {}
    },
    {
     "output_type": "display_data",
     "data": {
      "text/plain": "model-00001-of-00008.safetensors:   0%|          | 0.00/1.89G [00:00<?, ?B/s]",
      "application/vnd.jupyter.widget-view+json": {
       "version_major": 2,
       "version_minor": 0,
       "model_id": "c9933989352148d89dceddd8a55c4e1c"
      }
     },
     "metadata": {}
    },
    {
     "output_type": "display_data",
     "data": {
      "text/plain": "model-00002-of-00008.safetensors:   0%|          | 0.00/1.95G [00:00<?, ?B/s]",
      "application/vnd.jupyter.widget-view+json": {
       "version_major": 2,
       "version_minor": 0,
       "model_id": "10229b3d941d46f69367a1fb680457b0"
      }
     },
     "metadata": {}
    },
    {
     "output_type": "display_data",
     "data": {
      "text/plain": "model-00003-of-00008.safetensors:   0%|          | 0.00/1.98G [00:00<?, ?B/s]",
      "application/vnd.jupyter.widget-view+json": {
       "version_major": 2,
       "version_minor": 0,
       "model_id": "e8f20a0fed7a49b1880f18edff6b2340"
      }
     },
     "metadata": {}
    },
    {
     "output_type": "display_data",
     "data": {
      "text/plain": "model-00004-of-00008.safetensors:   0%|          | 0.00/1.95G [00:00<?, ?B/s]",
      "application/vnd.jupyter.widget-view+json": {
       "version_major": 2,
       "version_minor": 0,
       "model_id": "efc36f532597462e9e09382e68402271"
      }
     },
     "metadata": {}
    },
    {
     "output_type": "display_data",
     "data": {
      "text/plain": "model-00005-of-00008.safetensors:   0%|          | 0.00/1.98G [00:00<?, ?B/s]",
      "application/vnd.jupyter.widget-view+json": {
       "version_major": 2,
       "version_minor": 0,
       "model_id": "e0ba0ffdebeb4e8a90e389ae0b4ad1cf"
      }
     },
     "metadata": {}
    },
    {
     "output_type": "display_data",
     "data": {
      "text/plain": "model-00006-of-00008.safetensors:   0%|          | 0.00/1.95G [00:00<?, ?B/s]",
      "application/vnd.jupyter.widget-view+json": {
       "version_major": 2,
       "version_minor": 0,
       "model_id": "11e38c27819a4a2da07732b925bdfba2"
      }
     },
     "metadata": {}
    },
    {
     "output_type": "display_data",
     "data": {
      "text/plain": "model-00007-of-00008.safetensors:   0%|          | 0.00/1.98G [00:00<?, ?B/s]",
      "application/vnd.jupyter.widget-view+json": {
       "version_major": 2,
       "version_minor": 0,
       "model_id": "f269b945d5a743ec8626e1be089d8a7f"
      }
     },
     "metadata": {}
    },
    {
     "output_type": "display_data",
     "data": {
      "text/plain": "model-00008-of-00008.safetensors:   0%|          | 0.00/816M [00:00<?, ?B/s]",
      "application/vnd.jupyter.widget-view+json": {
       "version_major": 2,
       "version_minor": 0,
       "model_id": "a24b7bb69cc945f3929f876e9fd6157f"
      }
     },
     "metadata": {}
    },
    {
     "output_type": "display_data",
     "data": {
      "text/plain": "Loading checkpoint shards:   0%|          | 0/8 [00:00<?, ?it/s]",
      "application/vnd.jupyter.widget-view+json": {
       "version_major": 2,
       "version_minor": 0,
       "model_id": "f39be8344caf4c4aa9394284164e1b95"
      }
     },
     "metadata": {}
    },
    {
     "output_type": "display_data",
     "data": {
      "text/plain": "generation_config.json:   0%|          | 0.00/111 [00:00<?, ?B/s]",
      "application/vnd.jupyter.widget-view+json": {
       "version_major": 2,
       "version_minor": 0,
       "model_id": "78db8a32738c4a3eb9a73e6343fbd740"
      }
     },
     "metadata": {}
    },
    {
     "output_type": "display_data",
     "data": {
      "text/plain": "tokenizer_config.json:   0%|          | 0.00/1.43k [00:00<?, ?B/s]",
      "application/vnd.jupyter.widget-view+json": {
       "version_major": 2,
       "version_minor": 0,
       "model_id": "d62a1605650c4c108bb8770bf1a91c81"
      }
     },
     "metadata": {}
    },
    {
     "output_type": "display_data",
     "data": {
      "text/plain": "tokenizer.model:   0%|          | 0.00/493k [00:00<?, ?B/s]",
      "application/vnd.jupyter.widget-view+json": {
       "version_major": 2,
       "version_minor": 0,
       "model_id": "7d333433478e4283b2cfce204b6f7b47"
      }
     },
     "metadata": {}
    },
    {
     "output_type": "display_data",
     "data": {
      "text/plain": "tokenizer.json:   0%|          | 0.00/1.80M [00:00<?, ?B/s]",
      "application/vnd.jupyter.widget-view+json": {
       "version_major": 2,
       "version_minor": 0,
       "model_id": "c7bd3de016a247488abf516782d26074"
      }
     },
     "metadata": {}
    },
    {
     "output_type": "display_data",
     "data": {
      "text/plain": "added_tokens.json:   0%|          | 0.00/42.0 [00:00<?, ?B/s]",
      "application/vnd.jupyter.widget-view+json": {
       "version_major": 2,
       "version_minor": 0,
       "model_id": "74e362bb30f246f4af13709a9f21a89e"
      }
     },
     "metadata": {}
    },
    {
     "output_type": "display_data",
     "data": {
      "text/plain": "special_tokens_map.json:   0%|          | 0.00/168 [00:00<?, ?B/s]",
      "application/vnd.jupyter.widget-view+json": {
       "version_major": 2,
       "version_minor": 0,
       "model_id": "16a3fd72ec3647248e97b29faa230252"
      }
     },
     "metadata": {}
    },
    {
     "name": "stderr",
     "text": "/opt/conda/lib/python3.10/site-packages/langchain_core/_api/deprecation.py:139: LangChainDeprecationWarning: The class `HuggingFacePipeline` was deprecated in LangChain 0.0.37 and will be removed in 0.3. An updated version of the class exists in the langchain-huggingface package and should be used instead. To use it run `pip install -U langchain-huggingface` and import as `from langchain_huggingface import HuggingFacePipeline`.\n  warn_deprecated(\n",
     "output_type": "stream"
    }
   ]
  },
  {
   "cell_type": "markdown",
   "source": [
    "initialize the prompt template for the query chain. query chain is used to get a query from the chat history. you may change the prompt as you like to get better results."
   ],
   "metadata": {
    "pycharm": {
     "name": "#%% md\n"
    }
   }
  },
  {
   "cell_type": "code",
   "source": [
    "from langchain.prompts import PromptTemplate\n",
    "from langchain_core.runnables import RunnablePassthrough\n",
    "from langchain_core.output_parsers import StrOutputParser\n",
    "\n",
    "class LoggerStrOutputParser(StrOutputParser):\n",
    "    def parse(self, text: str) -> str:\n",
    "        # process the LLM output\n",
    "        print(f\"QUERY: {text}\")\n",
    "        return text\n",
    "\n",
    "query_transform_prompt = PromptTemplate(\n",
    "    input_variables=[\"messages\"],\n",
    "    template=\"\"\"\n",
    "\"{messages}\"\n",
    "Please generate a search query for llm engine for the movie in above text. Just give one query as the output and the query should not be more than 20 words.\n",
    "\"\"\" + \"|SEP|\"\n",
    ")\n",
    "\n",
    "# init the query chain\n",
    "query_transforming_retriever_chain = (\n",
    "    {\"messages\": RunnablePassthrough()}\n",
    "    | query_transform_prompt\n",
    "    | llm\n",
    "    | StrOutputParser()\n",
    ")"
   ],
   "metadata": {
    "id": "1eM1zuNUgMPq",
    "pycharm": {
     "name": "#%%\n"
    },
    "execution": {
     "iopub.status.busy": "2024-06-26T09:55:22.496986Z",
     "iopub.execute_input": "2024-06-26T09:55:22.497477Z",
     "iopub.status.idle": "2024-06-26T09:55:22.506429Z",
     "shell.execute_reply.started": "2024-06-26T09:55:22.497428Z",
     "shell.execute_reply": "2024-06-26T09:55:22.505526Z"
    },
    "trusted": true
   },
   "execution_count": 21,
   "outputs": []
  },
  {
   "cell_type": "markdown",
   "source": [
    "initialize the main retrieval chain that gives the resulting documents to LLM and gets the output back."
   ],
   "metadata": {
    "pycharm": {
     "name": "#%% md\n"
    }
   }
  },
  {
   "cell_type": "code",
   "source": [
    "from langchain.chains.combine_documents import create_stuff_documents_chain\n",
    "\n",
    "from langchain_core.runnables import RunnablePassthrough\n",
    "\n",
    "prompt = PromptTemplate(\n",
    "    input_variables=[\"context\", \"messages\"],\n",
    "    template=\"\"\"You are a helpful assistant tasked with making recommendations and answering questions. \n",
    "\n",
    "Context - Movies Available for Selection:\n",
    "{context}\n",
    "\n",
    "--------------------------------------------------\n",
    "\n",
    "User Queries:\n",
    "{messages}\n",
    "\n",
    "--------------------------------------------------\n",
    "\n",
    "Based on the movies listed above and the user queries, generate a response that includes just one movie recommendation. Ensure the response is relevant and concise. Give the answer in this style:\n",
    "\n",
    "Title: [the title of the movie (The year the movie was made)]\n",
    "\n",
    "Genres: [the genres of the movie]\n",
    "\n",
    "rating: [the rating of the movie]\n",
    "\n",
    "just one move recommendation in this format.\n",
    "\"\"\" + \"|SEP|\"\n",
    ")\n",
    "\n",
    "# init the retriver chain\n",
    "retrieval_chain = (\n",
    "    {\"context\" : retriever, \"messages\": RunnablePassthrough()}\n",
    "    | prompt\n",
    "    | llm\n",
    "    | StrOutputParser()\n",
    ")"
   ],
   "metadata": {
    "id": "KwMTLauLS7m0",
    "pycharm": {
     "name": "#%%\n"
    },
    "execution": {
     "iopub.status.busy": "2024-06-26T09:55:24.636850Z",
     "iopub.execute_input": "2024-06-26T09:55:24.637315Z",
     "iopub.status.idle": "2024-06-26T09:55:24.644803Z",
     "shell.execute_reply.started": "2024-06-26T09:55:24.637284Z",
     "shell.execute_reply": "2024-06-26T09:55:24.643734Z"
    },
    "trusted": true
   },
   "execution_count": 22,
   "outputs": []
  },
  {
   "cell_type": "markdown",
   "source": [
    "write the conversation helper class for easier testing."
   ],
   "metadata": {
    "pycharm": {
     "name": "#%% md\n"
    }
   }
  },
  {
   "cell_type": "code",
   "source": [
    "class Conversation:\n",
    "    def __init__(self):\n",
    "        self.messages = []\n",
    "        self.retriever = retriever\n",
    "\n",
    "    def add_assistant_message(self, message):\n",
    "        self.messages.append(('assistant', message))\n",
    "\n",
    "    def add_user_message(self, message):\n",
    "        self.messages.append(('user', message))\n",
    "\n",
    "    def get_messages(self):\n",
    "        formatted_messages = []\n",
    "        for role, message in self.messages:\n",
    "            formatted_message = f\"{role.capitalize()}: {message}\"\n",
    "            formatted_messages.append(formatted_message)\n",
    "        return \"\\n--------------------------------------\\n\".join(formatted_messages)\n",
    "\n",
    "    def chat(self, message):\n",
    "        self.add_user_message(message)\n",
    "        messages = self.get_messages()\n",
    "        \n",
    "        print(messages)\n",
    "        print(\"*\"*50)\n",
    "        \n",
    "        current_message = query_transforming_retriever_chain.invoke(messages).split(\"|SEP|\")[-1]\n",
    "        \n",
    "        print(\"Current message: \", message)\n",
    "        print(\"-\"*50)\n",
    "        print(\"Current Query: \", current_message)\n",
    "        print(\"-\"*50)\n",
    "        \n",
    "        response = retrieval_chain.invoke(current_message).split(\"|SEP|\")[-1]\n",
    "        self.add_assistant_message(' '.join(response.split(\"\\n\")[0:7]))\n",
    "        \n",
    "        return response"
   ],
   "metadata": {
    "id": "zhttNbN0U0WF",
    "pycharm": {
     "name": "#%%\n"
    },
    "execution": {
     "iopub.status.busy": "2024-06-26T10:00:49.748766Z",
     "iopub.execute_input": "2024-06-26T10:00:49.749687Z",
     "iopub.status.idle": "2024-06-26T10:00:49.760459Z",
     "shell.execute_reply.started": "2024-06-26T10:00:49.749651Z",
     "shell.execute_reply": "2024-06-26T10:00:49.759465Z"
    },
    "trusted": true
   },
   "execution_count": 34,
   "outputs": []
  },
  {
   "cell_type": "markdown",
   "source": [
    "## Test"
   ],
   "metadata": {
    "pycharm": {
     "name": "#%% md\n"
    }
   }
  },
  {
   "cell_type": "markdown",
   "source": [
    "talk with the RAG to see how good it performs."
   ],
   "metadata": {
    "pycharm": {
     "name": "#%% md\n"
    }
   }
  },
  {
   "cell_type": "code",
   "source": [
    "c = Conversation()\n",
    "A = c.chat('give me a cool gangster movie')\n",
    "print(\"Current Response: \")\n",
    "print(A)"
   ],
   "metadata": {
    "colab": {
     "base_uri": "https://localhost:8080/"
    },
    "id": "g8XV3HvhVTNu",
    "outputId": "b96ea4b1-8d98-4a03-9e67-a41c7a2b3829",
    "pycharm": {
     "name": "#%%\n"
    },
    "execution": {
     "iopub.status.busy": "2024-06-26T10:02:57.513916Z",
     "iopub.execute_input": "2024-06-26T10:02:57.514646Z",
     "iopub.status.idle": "2024-06-26T10:03:15.577806Z",
     "shell.execute_reply.started": "2024-06-26T10:02:57.514610Z",
     "shell.execute_reply": "2024-06-26T10:03:15.576805Z"
    },
    "trusted": true
   },
   "execution_count": 38,
   "outputs": [
    {
     "name": "stdout",
     "text": "User: give me a cool gangster movie\n**************************************************\nCurrent message:  give me a cool gangster movie\n--------------------------------------------------\nCurrent Query:  >\n\"recommend a stylish and gritty crime drama with a charismatic antihero leading a dangerous gang in a neon-lit urban setting\"\n--------------------------------------------------\nCurrent Response: \n\n\nTitle: City of Industry (1993)\n\nGenres: Crime, Drama, Thriller\n\nrating: 6.1\n\nThis movie follows the story of a retired thief seeking revenge against the person who murdered his brother and partner, while also evading the law with the loot they stole. The movie is set in a neon-lit urban environment, and the main character, played by Robert De Niro, is a charismatic antihero leading a dangerous gang. The movie's stylish and gritty portrayal of crime and its urban setting make it a perfect fit for your query.\n",
     "output_type": "stream"
    }
   ]
  },
  {
   "cell_type": "code",
   "source": [
    "A = c.chat('give me a newer one')\n",
    "print(A)"
   ],
   "metadata": {
    "colab": {
     "base_uri": "https://localhost:8080/"
    },
    "id": "cC0Sz0Nbl_Zr",
    "outputId": "092b4108-3ace-4261-ca52-108828ec3e3b",
    "pycharm": {
     "name": "#%%\n"
    },
    "execution": {
     "iopub.status.busy": "2024-06-26T10:03:15.579573Z",
     "iopub.execute_input": "2024-06-26T10:03:15.579870Z",
     "iopub.status.idle": "2024-06-26T10:03:41.446365Z",
     "shell.execute_reply.started": "2024-06-26T10:03:15.579835Z",
     "shell.execute_reply": "2024-06-26T10:03:41.445399Z"
    },
    "trusted": true
   },
   "execution_count": 39,
   "outputs": [
    {
     "name": "stdout",
     "text": "User: give me a cool gangster movie\n--------------------------------------\nAssistant:   Title: City of Industry (1993)  Genres: Crime, Drama, Thriller  rating: 6.1\n--------------------------------------\nUser: give me a newer one\n**************************************************\nCurrent message:  give me a newer one\n--------------------------------------------------\nCurrent Query:  >\n\"Find a 2010s crime drama with a gritty style and a compelling protagonist who rises through the ranks of a criminal organization in a major city.\"\n--------------------------------------------------\n\n\nTitle: Narcos (2015)\n\nGenres: Crime, Drama, Biography\n\nrating: 8.8\n\nNarcos is a gritty crime drama series that follows the rise of the infamous drug lord Pablo Escobar and the DEA agent Steve Murphy's attempts to bring him down. However, in this recommendation, we're focusing on the character of Escobar's right-hand man, Juan Pablo Escobar, played by Pedro Pascal. The show's style is gritty and realistic, with a focus on the complex dynamics of the criminal underworld in Colombia. Pascal's performance as Escobar's successor is captivating, as he navigates the dangerous world of the cartel and tries to maintain his position of power. If you're looking for a crime drama with a compelling protagonist who rises through the ranks of a criminal organization in a major city, Narcos is the perfect choice.\n",
     "output_type": "stream"
    }
   ]
  }
 ]
}